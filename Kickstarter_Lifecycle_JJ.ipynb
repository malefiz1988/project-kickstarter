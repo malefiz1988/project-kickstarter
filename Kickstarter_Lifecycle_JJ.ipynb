{
 "cells": [
  {
   "cell_type": "markdown",
   "id": "certain-helping",
   "metadata": {},
   "source": [
    "# Kickstarter Lifecycle"
   ]
  },
  {
   "cell_type": "markdown",
   "id": "fuzzy-kuwait",
   "metadata": {},
   "source": [
    "## Intro"
   ]
  },
  {
   "cell_type": "markdown",
   "id": "insured-foster",
   "metadata": {},
   "source": [
    "* what is the task\n",
    "* intro to kickstarter\n",
    "* storyline"
   ]
  },
  {
   "cell_type": "markdown",
   "id": "specialized-notion",
   "metadata": {},
   "source": [
    "## Get the Data"
   ]
  },
  {
   "cell_type": "markdown",
   "id": "international-geometry",
   "metadata": {},
   "source": [
    "* aggregation of all .csv-sheets\n",
    "* drop features with useless information (missings etc.)\n",
    "* split 10% of data for evaluation later (don't look at it!)\n",
    "* store dataset in ..."
   ]
  },
  {
   "cell_type": "markdown",
   "id": "alpine-librarian",
   "metadata": {},
   "source": [
    "## Explore the Data (EDA)"
   ]
  },
  {
   "cell_type": "markdown",
   "id": "hawaiian-emperor",
   "metadata": {},
   "source": [
    "* bla\n",
    "* blub"
   ]
  },
  {
   "cell_type": "markdown",
   "id": "flush-anime",
   "metadata": {},
   "source": [
    "## Prepare the Data"
   ]
  },
  {
   "cell_type": "markdown",
   "id": "short-helen",
   "metadata": {},
   "source": [
    "* data cleaning\n",
    "* feature engineering\n",
    "* scaling (stardardization or min-max-scaling)\n",
    "* log scaling\n",
    "* feature combination (backers ratio?)\n",
    "* how to handle outliers?"
   ]
  },
  {
   "cell_type": "markdown",
   "id": "opponent-ozone",
   "metadata": {},
   "source": [
    "## Creation of promising models"
   ]
  },
  {
   "cell_type": "markdown",
   "id": "boolean-london",
   "metadata": {},
   "source": [
    "* bla\n",
    "* blub"
   ]
  },
  {
   "cell_type": "markdown",
   "id": "after-cotton",
   "metadata": {},
   "source": [
    "## Fine tuning"
   ]
  },
  {
   "cell_type": "markdown",
   "id": "attached-pressing",
   "metadata": {},
   "source": [
    "* bla\n",
    "* blub"
   ]
  },
  {
   "cell_type": "code",
   "execution_count": null,
   "id": "sacred-station",
   "metadata": {},
   "outputs": [],
   "source": []
  }
 ],
 "metadata": {
  "kernelspec": {
   "display_name": "Python 3",
   "language": "python",
   "name": "python3"
  },
  "language_info": {
   "codemirror_mode": {
    "name": "ipython",
    "version": 3
   },
   "file_extension": ".py",
   "mimetype": "text/x-python",
   "name": "python",
   "nbconvert_exporter": "python",
   "pygments_lexer": "ipython3",
   "version": "3.8.5"
  }
 },
 "nbformat": 4,
 "nbformat_minor": 5
}
