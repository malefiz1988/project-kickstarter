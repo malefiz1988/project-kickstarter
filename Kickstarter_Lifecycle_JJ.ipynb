{
 "cells": [
  {
   "cell_type": "markdown",
   "id": "handed-criminal",
   "metadata": {},
   "source": [
    "# Kickstarter Lifecycle"
   ]
  },
  {
   "cell_type": "markdown",
   "id": "iraqi-processing",
   "metadata": {},
   "source": [
    "## Intro"
   ]
  },
  {
   "cell_type": "markdown",
   "id": "powerful-discrimination",
   "metadata": {},
   "source": [
    "* what is the task\n",
    "* intro to kickstarter\n",
    "* storyline"
   ]
  },
  {
   "cell_type": "markdown",
   "id": "falling-sapphire",
   "metadata": {},
   "source": [
    "## Get the Data"
   ]
  },
  {
   "cell_type": "markdown",
   "id": "affiliated-pontiac",
   "metadata": {},
   "source": [
    "* aggregation of all .csv-sheets\n",
    "* drop features with useless information (missings etc.)\n",
    "* split 10% of data for evaluation later (don't look at it!)\n",
    "* store dataset in ..."
   ]
  },
  {
   "cell_type": "markdown",
   "id": "maritime-assurance",
   "metadata": {},
   "source": [
    "## Explore the Data (EDA)"
   ]
  },
  {
   "cell_type": "markdown",
   "id": "noted-exclusion",
   "metadata": {},
   "source": [
    "* EDA von Birte übernehmen:\n",
    "  - introduction\n",
    "  - explained features\n",
    "  - target\n",
    "  - questions\n",
    "* show head of dataset\n",
    "* info()\n",
    "* describe()\n",
    "* droping states canceled, live and suspended (give reason for that)\n",
    "* show pairplot + hue=state\n",
    "* first observations of pairplots\n",
    "* heatmap of all features\n",
    "* findings of heatmap\n",
    "* analysis of subcategories (Birte)\n",
    "  - plot top subcategories\n",
    "  - plot slugs\n",
    "  - subcategories vs slug?\n",
    "* overview of requested money and pledged amount (Birte):\n",
    "  - plot(s)\n",
    "  - findings\n",
    "* new feature: Conversion of goal in local currencies to goal in USD (Birte)\n",
    "* backers vs usd pledged (Birte):\n",
    "  - plot\n",
    "  - findings\n",
    "* backers per cgrouped (Birte):\n",
    "  - change feature country --> cgrouped\n",
    "  - barplot (hue=state)\n",
    "* relative feature: backers_count & usd_pledged (Julius)\n",
    "* How many projects ended with pleged > Goal?\n",
    "  - plot\n",
    "  - findings\n",
    "* creatin new timestamps (Julius):\n",
    "  - explan meaning of deltas\n",
    "  - deltas of timestamps\n",
    "  - conversion to days/month/year\n",
    "* histogram of delta(s) + findings\n",
    "* countplot of months (hue=state) + findings\n",
    "* countplot of years (hue=state) + findings\n",
    "* relative feature: time(delta) & X (Julius)\n",
    "\n",
    "* drop features:\n",
    "  - name of features\n",
    "  - reason why\n",
    "* we have new features:\n",
    "  - name\n",
    "  - reason\n",
    "* data cleaning in next step"
   ]
  },
  {
   "cell_type": "markdown",
   "id": "controlling-compression",
   "metadata": {},
   "source": [
    "## Prepare the Data"
   ]
  },
  {
   "cell_type": "markdown",
   "id": "valuable-collins",
   "metadata": {},
   "source": [
    "* data cleaning:\n",
    "  - drop duplicates!\n",
    "  - ...\n",
    "* feature engineering\n",
    "* scaling (stardardization or min-max-scaling)\n",
    "* log scaling\n",
    "* feature combination (backers ratio?)\n",
    "* how to handle outliers?"
   ]
  },
  {
   "cell_type": "markdown",
   "id": "victorian-prince",
   "metadata": {},
   "source": [
    "## Creation of promising models"
   ]
  },
  {
   "cell_type": "markdown",
   "id": "scenic-pencil",
   "metadata": {},
   "source": [
    "* bla\n",
    "* blub"
   ]
  },
  {
   "cell_type": "markdown",
   "id": "italian-antarctica",
   "metadata": {},
   "source": [
    "## Fine tuning"
   ]
  },
  {
   "cell_type": "markdown",
   "id": "metallic-poker",
   "metadata": {},
   "source": [
    "* bla\n",
    "* blub"
   ]
  },
  {
   "cell_type": "code",
   "execution_count": null,
   "id": "molecular-console",
   "metadata": {},
   "outputs": [],
   "source": []
  }
 ],
 "metadata": {
  "kernelspec": {
   "display_name": "Python 3",
   "language": "python",
   "name": "python3"
  },
  "language_info": {
   "codemirror_mode": {
    "name": "ipython",
    "version": 3
   },
   "file_extension": ".py",
   "mimetype": "text/x-python",
   "name": "python",
   "nbconvert_exporter": "python",
   "pygments_lexer": "ipython3",
   "version": "3.8.5"
  }
 },
 "nbformat": 4,
 "nbformat_minor": 5
}
