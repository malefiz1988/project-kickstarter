{
 "cells": [
  {
   "cell_type": "code",
   "execution_count": 1,
   "id": "fabulous-profit",
   "metadata": {},
   "outputs": [],
   "source": [
    "# Import of relevant packages\n",
    "import numpy as np\n",
    "import pandas as pd\n",
    "import matplotlib.pyplot as plt\n",
    "import seaborn as sns\n",
    "\n",
    "from sklearn.pipeline import Pipeline\n",
    "from sklearn.compose import ColumnTransformer\n",
    "from sklearn.preprocessing import OneHotEncoder, StandardScaler\n",
    "from sklearn.impute import SimpleImputer\n",
    "from sklearn.model_selection import train_test_split\n",
    "from sklearn.model_selection import GridSearchCV, RandomizedSearchCV\n",
    "from sklearn.model_selection import cross_val_predict, cross_val_score, cross_validate\n",
    "from sklearn.metrics import roc_curve, confusion_matrix, accuracy_score, recall_score, precision_score\n",
    "from sklearn import preprocessing\n",
    "import sklearn.metrics as sm\n",
    "from sklearn.neighbors import KNeighborsClassifier\n",
    "from sklearn.tree import DecisionTreeClassifier\n",
    "from sklearn.naive_bayes import BernoulliNB\n",
    "from sklearn.svm import SVC\n",
    "from sklearn.ensemble import RandomForestClassifier\n",
    "from sklearn.ensemble import AdaBoostClassifier\n",
    "from sklearn.ensemble import StackingClassifier\n",
    "from sklearn import tree\n",
    "import pickle\n",
    "\n",
    "from sklearn.linear_model import LogisticRegression\n",
    "\n",
    "RSEED = 42"
   ]
  },
  {
   "cell_type": "markdown",
   "id": "common-volume",
   "metadata": {},
   "source": [
    "# Preprocessing"
   ]
  },
  {
   "cell_type": "markdown",
   "id": "institutional-forward",
   "metadata": {},
   "source": [
    "## Functions"
   ]
  },
  {
   "cell_type": "code",
   "execution_count": 2,
   "id": "handled-harris",
   "metadata": {},
   "outputs": [],
   "source": [
    "def dropCols(df):\n",
    "    drop_cols = [\n",
    "        'blurb',\n",
    "        'creator',\n",
    "        'currency',\n",
    "        'currency_trailing_code',\n",
    "        'fx_rate',\n",
    "        'location',\n",
    "        'name',\n",
    "        'profile',\n",
    "        'slug',\n",
    "        'source_url',\n",
    "        'static_usd_rate',\n",
    "        'usd_type',\n",
    "        \"country\",\n",
    "        \"is_starrable\",\n",
    "        'converted_pledged_amount',\n",
    "        'pledged',\n",
    "        'category_slug',\n",
    "        'disable_communication',\n",
    "        'usd_pledged',\n",
    "        #\"backers_count\",\n",
    "        #\"staff_pick\",\n",
    "    ]\n",
    "    df.drop(drop_cols, inplace=True, axis = 1)\n",
    "    for c in df.columns: \n",
    "        if df[c].dtype == \"object\": \n",
    "            df[c] = df[c].astype(\"category\") \n",
    "    df.dropna(inplace=True)\n",
    "    return df\n",
    "\n",
    "def toDay(time_delta):\n",
    "    return round(time_delta/3600/24,2)\n",
    "\n",
    "def dateTimeUpdate(df):\n",
    "    campaign_length = df.deadline - df.created_at\n",
    "    campaign_length = campaign_length.apply(toDay)\n",
    "    campaign_length.name = \"campaign_length\"\n",
    "    \n",
    "    time_until_launch = df.launched_at - df.created_at\n",
    "    time_until_launch = time_until_launch.apply(toDay)\n",
    "    time_until_launch.name = \"time_until_launch\"\n",
    "    \n",
    "    time_launch2state = df.state_changed_at - df.launched_at\n",
    "    time_launch2state = time_launch2state.apply(toDay)\n",
    "    time_launch2state.name = \"time_launch2state\"\n",
    "    \n",
    "    time_state2deadline = df.deadline - df.state_changed_at\n",
    "    time_state2deadline = time_state2deadline.apply(toDay)\n",
    "    time_state2deadline.name = \"time_state2deadline\"\n",
    "    \n",
    "    time_launch2deadline = df.deadline - df.launched_at\n",
    "    time_launch2deadline = time_launch2deadline.apply(toDay)\n",
    "    time_launch2deadline.name = \"time_launch2deadline\"\n",
    "    \n",
    "    df = pd.concat([df, \n",
    "                    campaign_length,\n",
    "                    time_until_launch, \n",
    "                    #time_launch2state,\n",
    "                    #time_state2deadline,\n",
    "                    #time_launch2deadline\n",
    "                   ],\n",
    "                  axis = 1\n",
    "                  )\n",
    "    df.drop([\n",
    "        \"created_at\",\n",
    "        \"deadline\",\n",
    "        \"launched_at\",\n",
    "        \"state_changed_at\",\n",
    "            ],\n",
    "        axis =1,\n",
    "        inplace=True\n",
    "    )\n",
    "    return df\n"
   ]
  },
  {
   "cell_type": "markdown",
   "id": "contained-greenhouse",
   "metadata": {},
   "source": [
    "## Load data, drop unnecessary columns"
   ]
  },
  {
   "cell_type": "code",
   "execution_count": 3,
   "id": "reported-glenn",
   "metadata": {},
   "outputs": [
    {
     "data": {
      "text/html": [
       "<div>\n",
       "<style scoped>\n",
       "    .dataframe tbody tr th:only-of-type {\n",
       "        vertical-align: middle;\n",
       "    }\n",
       "\n",
       "    .dataframe tbody tr th {\n",
       "        vertical-align: top;\n",
       "    }\n",
       "\n",
       "    .dataframe thead th {\n",
       "        text-align: right;\n",
       "    }\n",
       "</style>\n",
       "<table border=\"1\" class=\"dataframe\">\n",
       "  <thead>\n",
       "    <tr style=\"text-align: right;\">\n",
       "      <th></th>\n",
       "      <th>backers_count</th>\n",
       "      <th>goal</th>\n",
       "      <th>staff_pick</th>\n",
       "      <th>state</th>\n",
       "      <th>category_name</th>\n",
       "      <th>cgrouped</th>\n",
       "      <th>campaign_length</th>\n",
       "      <th>time_until_launch</th>\n",
       "    </tr>\n",
       "  </thead>\n",
       "  <tbody>\n",
       "    <tr>\n",
       "      <th>0</th>\n",
       "      <td>2</td>\n",
       "      <td>5000.0</td>\n",
       "      <td>False</td>\n",
       "      <td>failed</td>\n",
       "      <td>Woodworking</td>\n",
       "      <td>Other</td>\n",
       "      <td>24.36</td>\n",
       "      <td>1.36</td>\n",
       "    </tr>\n",
       "    <tr>\n",
       "      <th>1</th>\n",
       "      <td>1561</td>\n",
       "      <td>30000.0</td>\n",
       "      <td>False</td>\n",
       "      <td>successful</td>\n",
       "      <td>Video Games</td>\n",
       "      <td>US</td>\n",
       "      <td>304.63</td>\n",
       "      <td>274.58</td>\n",
       "    </tr>\n",
       "    <tr>\n",
       "      <th>2</th>\n",
       "      <td>306</td>\n",
       "      <td>100000.0</td>\n",
       "      <td>True</td>\n",
       "      <td>successful</td>\n",
       "      <td>Wearables</td>\n",
       "      <td>US</td>\n",
       "      <td>76.31</td>\n",
       "      <td>40.52</td>\n",
       "    </tr>\n",
       "    <tr>\n",
       "      <th>3</th>\n",
       "      <td>192</td>\n",
       "      <td>6500.0</td>\n",
       "      <td>True</td>\n",
       "      <td>successful</td>\n",
       "      <td>Indie Rock</td>\n",
       "      <td>US</td>\n",
       "      <td>74.59</td>\n",
       "      <td>41.10</td>\n",
       "    </tr>\n",
       "    <tr>\n",
       "      <th>4</th>\n",
       "      <td>0</td>\n",
       "      <td>20000.0</td>\n",
       "      <td>False</td>\n",
       "      <td>canceled</td>\n",
       "      <td>Farms</td>\n",
       "      <td>US</td>\n",
       "      <td>757.56</td>\n",
       "      <td>727.56</td>\n",
       "    </tr>\n",
       "    <tr>\n",
       "      <th>...</th>\n",
       "      <td>...</td>\n",
       "      <td>...</td>\n",
       "      <td>...</td>\n",
       "      <td>...</td>\n",
       "      <td>...</td>\n",
       "      <td>...</td>\n",
       "      <td>...</td>\n",
       "      <td>...</td>\n",
       "    </tr>\n",
       "    <tr>\n",
       "      <th>163613</th>\n",
       "      <td>137</td>\n",
       "      <td>2500.0</td>\n",
       "      <td>False</td>\n",
       "      <td>successful</td>\n",
       "      <td>Hardware</td>\n",
       "      <td>GB</td>\n",
       "      <td>45.32</td>\n",
       "      <td>15.32</td>\n",
       "    </tr>\n",
       "    <tr>\n",
       "      <th>163614</th>\n",
       "      <td>2</td>\n",
       "      <td>20000.0</td>\n",
       "      <td>False</td>\n",
       "      <td>failed</td>\n",
       "      <td>Nature</td>\n",
       "      <td>US</td>\n",
       "      <td>31.05</td>\n",
       "      <td>0.06</td>\n",
       "    </tr>\n",
       "    <tr>\n",
       "      <th>163615</th>\n",
       "      <td>17</td>\n",
       "      <td>6000.0</td>\n",
       "      <td>False</td>\n",
       "      <td>failed</td>\n",
       "      <td>Gadgets</td>\n",
       "      <td>US</td>\n",
       "      <td>106.39</td>\n",
       "      <td>73.41</td>\n",
       "    </tr>\n",
       "    <tr>\n",
       "      <th>163616</th>\n",
       "      <td>1</td>\n",
       "      <td>1000.0</td>\n",
       "      <td>False</td>\n",
       "      <td>failed</td>\n",
       "      <td>Radio &amp; Podcasts</td>\n",
       "      <td>US</td>\n",
       "      <td>32.57</td>\n",
       "      <td>2.57</td>\n",
       "    </tr>\n",
       "    <tr>\n",
       "      <th>163617</th>\n",
       "      <td>40</td>\n",
       "      <td>1250.0</td>\n",
       "      <td>False</td>\n",
       "      <td>successful</td>\n",
       "      <td>Festivals</td>\n",
       "      <td>GB</td>\n",
       "      <td>84.21</td>\n",
       "      <td>55.18</td>\n",
       "    </tr>\n",
       "  </tbody>\n",
       "</table>\n",
       "<p>163618 rows × 8 columns</p>\n",
       "</div>"
      ],
      "text/plain": [
       "        backers_count      goal  staff_pick       state     category_name  \\\n",
       "0                   2    5000.0       False      failed       Woodworking   \n",
       "1                1561   30000.0       False  successful       Video Games   \n",
       "2                 306  100000.0        True  successful         Wearables   \n",
       "3                 192    6500.0        True  successful        Indie Rock   \n",
       "4                   0   20000.0       False    canceled             Farms   \n",
       "...               ...       ...         ...         ...               ...   \n",
       "163613            137    2500.0       False  successful          Hardware   \n",
       "163614              2   20000.0       False      failed            Nature   \n",
       "163615             17    6000.0       False      failed           Gadgets   \n",
       "163616              1    1000.0       False      failed  Radio & Podcasts   \n",
       "163617             40    1250.0       False  successful         Festivals   \n",
       "\n",
       "       cgrouped  campaign_length  time_until_launch  \n",
       "0         Other            24.36               1.36  \n",
       "1            US           304.63             274.58  \n",
       "2            US            76.31              40.52  \n",
       "3            US            74.59              41.10  \n",
       "4            US           757.56             727.56  \n",
       "...         ...              ...                ...  \n",
       "163613       GB            45.32              15.32  \n",
       "163614       US            31.05               0.06  \n",
       "163615       US           106.39              73.41  \n",
       "163616       US            32.57               2.57  \n",
       "163617       GB            84.21              55.18  \n",
       "\n",
       "[163618 rows x 8 columns]"
      ]
     },
     "execution_count": 3,
     "metadata": {},
     "output_type": "execute_result"
    }
   ],
   "source": [
    "df = pd.read_csv('data/df_clean.csv')\n",
    "df = dropCols(df)\n",
    "df = dateTimeUpdate(df)\n",
    "df.drop(df.columns[df.columns.str.contains('unnamed',case = False)],axis = 1, inplace = True)\n",
    "df.head()\n",
    "#df.goal = np.log10(df.goal)\n",
    "df"
   ]
  },
  {
   "cell_type": "code",
   "execution_count": 4,
   "id": "taken-swimming",
   "metadata": {},
   "outputs": [],
   "source": [
    "#df.describe()"
   ]
  },
  {
   "cell_type": "code",
   "execution_count": 5,
   "id": "velvet-buying",
   "metadata": {},
   "outputs": [],
   "source": [
    "#sns.scatterplot(data = df, x= \"time_state2deadline\",y=\"goal\" )\n",
    "#plt.xscale(\"log\")"
   ]
  },
  {
   "cell_type": "markdown",
   "id": "japanese-practice",
   "metadata": {},
   "source": [
    "## Define categorical and numerical columns"
   ]
  },
  {
   "cell_type": "code",
   "execution_count": 6,
   "id": "forty-investigation",
   "metadata": {},
   "outputs": [
    {
     "data": {
      "text/plain": [
       "['category_name', 'cgrouped']"
      ]
     },
     "execution_count": 6,
     "metadata": {},
     "output_type": "execute_result"
    }
   ],
   "source": [
    "cat_features = list(df.columns[df.dtypes=='category'])\n",
    "cat_features.remove('state')\n",
    "cat_features"
   ]
  },
  {
   "cell_type": "code",
   "execution_count": 7,
   "id": "signed-pennsylvania",
   "metadata": {},
   "outputs": [
    {
     "data": {
      "text/plain": [
       "['backers_count', 'goal', 'staff_pick', 'campaign_length', 'time_until_launch']"
      ]
     },
     "execution_count": 7,
     "metadata": {},
     "output_type": "execute_result"
    }
   ],
   "source": [
    "num_features = list(df.columns[df.dtypes!='category'])\n",
    "num_features"
   ]
  },
  {
   "cell_type": "markdown",
   "id": "wooden-complexity",
   "metadata": {},
   "source": [
    "## Define training data\n",
    "\n",
    "Targets will only be \"failed\" and \"successful\" because, only these are purely market driven classes and therefore can be best related to the features. To predict for example \"cancelled\" more insights into the founders' business would be necessary."
   ]
  },
  {
   "cell_type": "code",
   "execution_count": 8,
   "id": "persistent-architecture",
   "metadata": {},
   "outputs": [
    {
     "name": "stdout",
     "output_type": "stream",
     "text": [
      "fearture Rows: 151867 \n",
      "feature columns: 7\n",
      "target rows: 151867\n"
     ]
    }
   ],
   "source": [
    "X = df[(df['state']=='failed') | (df['state']=='successful')].drop(\"state\", axis=1)\n",
    "y = df[(df['state']=='failed') | (df['state']=='successful')][\"state\"]\n",
    "print(f\"fearture Rows: {X.shape[0]} \\nfeature columns: {X.shape[1]}\")\n",
    "print(f\"target rows: {y.shape[0]}\")"
   ]
  },
  {
   "cell_type": "code",
   "execution_count": 9,
   "id": "likely-ottawa",
   "metadata": {},
   "outputs": [
    {
     "name": "stdout",
     "output_type": "stream",
     "text": [
      "before: \n",
      "['failed' 'successful' 'successful' 'successful' 'successful' 'successful'\n",
      " 'successful' 'successful' 'successful' 'failed']\n",
      "--------------------------------------------------\n",
      "after: \n",
      "[0 1 1 1 1 1 1 1 1 0]\n"
     ]
    }
   ],
   "source": [
    "label_encoder = preprocessing.LabelEncoder()\n",
    "label_encoder.fit([\"failed\",\"successful\"])\n",
    "print(\"before: \\n{}\".format(np.array(y[:10])))\n",
    "y = label_encoder.transform(y)\n",
    "print(\"-----\"*10)\n",
    "print(\"after: \\n{}\".format(y[:10]))"
   ]
  },
  {
   "cell_type": "markdown",
   "id": "quiet-rebound",
   "metadata": {},
   "source": [
    "## Split the training data"
   ]
  },
  {
   "cell_type": "code",
   "execution_count": 10,
   "id": "passing-currency",
   "metadata": {},
   "outputs": [
    {
     "data": {
      "text/html": [
       "<div>\n",
       "<style scoped>\n",
       "    .dataframe tbody tr th:only-of-type {\n",
       "        vertical-align: middle;\n",
       "    }\n",
       "\n",
       "    .dataframe tbody tr th {\n",
       "        vertical-align: top;\n",
       "    }\n",
       "\n",
       "    .dataframe thead th {\n",
       "        text-align: right;\n",
       "    }\n",
       "</style>\n",
       "<table border=\"1\" class=\"dataframe\">\n",
       "  <thead>\n",
       "    <tr style=\"text-align: right;\">\n",
       "      <th></th>\n",
       "      <th>backers_count</th>\n",
       "      <th>goal</th>\n",
       "      <th>staff_pick</th>\n",
       "      <th>category_name</th>\n",
       "      <th>cgrouped</th>\n",
       "      <th>campaign_length</th>\n",
       "      <th>time_until_launch</th>\n",
       "    </tr>\n",
       "  </thead>\n",
       "  <tbody>\n",
       "    <tr>\n",
       "      <th>0</th>\n",
       "      <td>2</td>\n",
       "      <td>5000.0</td>\n",
       "      <td>False</td>\n",
       "      <td>Woodworking</td>\n",
       "      <td>Other</td>\n",
       "      <td>24.36</td>\n",
       "      <td>1.36</td>\n",
       "    </tr>\n",
       "    <tr>\n",
       "      <th>1</th>\n",
       "      <td>1561</td>\n",
       "      <td>30000.0</td>\n",
       "      <td>False</td>\n",
       "      <td>Video Games</td>\n",
       "      <td>US</td>\n",
       "      <td>304.63</td>\n",
       "      <td>274.58</td>\n",
       "    </tr>\n",
       "    <tr>\n",
       "      <th>2</th>\n",
       "      <td>306</td>\n",
       "      <td>100000.0</td>\n",
       "      <td>True</td>\n",
       "      <td>Wearables</td>\n",
       "      <td>US</td>\n",
       "      <td>76.31</td>\n",
       "      <td>40.52</td>\n",
       "    </tr>\n",
       "    <tr>\n",
       "      <th>3</th>\n",
       "      <td>192</td>\n",
       "      <td>6500.0</td>\n",
       "      <td>True</td>\n",
       "      <td>Indie Rock</td>\n",
       "      <td>US</td>\n",
       "      <td>74.59</td>\n",
       "      <td>41.10</td>\n",
       "    </tr>\n",
       "    <tr>\n",
       "      <th>5</th>\n",
       "      <td>552</td>\n",
       "      <td>33000.0</td>\n",
       "      <td>True</td>\n",
       "      <td>Print</td>\n",
       "      <td>US</td>\n",
       "      <td>32.86</td>\n",
       "      <td>1.86</td>\n",
       "    </tr>\n",
       "    <tr>\n",
       "      <th>...</th>\n",
       "      <td>...</td>\n",
       "      <td>...</td>\n",
       "      <td>...</td>\n",
       "      <td>...</td>\n",
       "      <td>...</td>\n",
       "      <td>...</td>\n",
       "      <td>...</td>\n",
       "    </tr>\n",
       "    <tr>\n",
       "      <th>163613</th>\n",
       "      <td>137</td>\n",
       "      <td>2500.0</td>\n",
       "      <td>False</td>\n",
       "      <td>Hardware</td>\n",
       "      <td>GB</td>\n",
       "      <td>45.32</td>\n",
       "      <td>15.32</td>\n",
       "    </tr>\n",
       "    <tr>\n",
       "      <th>163614</th>\n",
       "      <td>2</td>\n",
       "      <td>20000.0</td>\n",
       "      <td>False</td>\n",
       "      <td>Nature</td>\n",
       "      <td>US</td>\n",
       "      <td>31.05</td>\n",
       "      <td>0.06</td>\n",
       "    </tr>\n",
       "    <tr>\n",
       "      <th>163615</th>\n",
       "      <td>17</td>\n",
       "      <td>6000.0</td>\n",
       "      <td>False</td>\n",
       "      <td>Gadgets</td>\n",
       "      <td>US</td>\n",
       "      <td>106.39</td>\n",
       "      <td>73.41</td>\n",
       "    </tr>\n",
       "    <tr>\n",
       "      <th>163616</th>\n",
       "      <td>1</td>\n",
       "      <td>1000.0</td>\n",
       "      <td>False</td>\n",
       "      <td>Radio &amp; Podcasts</td>\n",
       "      <td>US</td>\n",
       "      <td>32.57</td>\n",
       "      <td>2.57</td>\n",
       "    </tr>\n",
       "    <tr>\n",
       "      <th>163617</th>\n",
       "      <td>40</td>\n",
       "      <td>1250.0</td>\n",
       "      <td>False</td>\n",
       "      <td>Festivals</td>\n",
       "      <td>GB</td>\n",
       "      <td>84.21</td>\n",
       "      <td>55.18</td>\n",
       "    </tr>\n",
       "  </tbody>\n",
       "</table>\n",
       "<p>151867 rows × 7 columns</p>\n",
       "</div>"
      ],
      "text/plain": [
       "        backers_count      goal  staff_pick     category_name cgrouped  \\\n",
       "0                   2    5000.0       False       Woodworking    Other   \n",
       "1                1561   30000.0       False       Video Games       US   \n",
       "2                 306  100000.0        True         Wearables       US   \n",
       "3                 192    6500.0        True        Indie Rock       US   \n",
       "5                 552   33000.0        True             Print       US   \n",
       "...               ...       ...         ...               ...      ...   \n",
       "163613            137    2500.0       False          Hardware       GB   \n",
       "163614              2   20000.0       False            Nature       US   \n",
       "163615             17    6000.0       False           Gadgets       US   \n",
       "163616              1    1000.0       False  Radio & Podcasts       US   \n",
       "163617             40    1250.0       False         Festivals       GB   \n",
       "\n",
       "        campaign_length  time_until_launch  \n",
       "0                 24.36               1.36  \n",
       "1                304.63             274.58  \n",
       "2                 76.31              40.52  \n",
       "3                 74.59              41.10  \n",
       "5                 32.86               1.86  \n",
       "...                 ...                ...  \n",
       "163613            45.32              15.32  \n",
       "163614            31.05               0.06  \n",
       "163615           106.39              73.41  \n",
       "163616            32.57               2.57  \n",
       "163617            84.21              55.18  \n",
       "\n",
       "[151867 rows x 7 columns]"
      ]
     },
     "execution_count": 10,
     "metadata": {},
     "output_type": "execute_result"
    }
   ],
   "source": [
    "X"
   ]
  },
  {
   "cell_type": "code",
   "execution_count": 11,
   "id": "possible-evans",
   "metadata": {},
   "outputs": [],
   "source": [
    "X_train, X_test, y_train, y_test = train_test_split(X, y, test_size=0.2,stratify=y, random_state=RSEED)\n",
    "X_train, X_train_alt, y_train, y_train_alt = train_test_split(X_train, y_train, train_size=0.1,stratify=y_train, random_state=RSEED)"
   ]
  },
  {
   "cell_type": "code",
   "execution_count": 12,
   "id": "civil-dream",
   "metadata": {},
   "outputs": [
    {
     "data": {
      "text/html": [
       "<div>\n",
       "<style scoped>\n",
       "    .dataframe tbody tr th:only-of-type {\n",
       "        vertical-align: middle;\n",
       "    }\n",
       "\n",
       "    .dataframe tbody tr th {\n",
       "        vertical-align: top;\n",
       "    }\n",
       "\n",
       "    .dataframe thead th {\n",
       "        text-align: right;\n",
       "    }\n",
       "</style>\n",
       "<table border=\"1\" class=\"dataframe\">\n",
       "  <thead>\n",
       "    <tr style=\"text-align: right;\">\n",
       "      <th></th>\n",
       "      <th>backers_count</th>\n",
       "      <th>goal</th>\n",
       "      <th>staff_pick</th>\n",
       "      <th>category_name</th>\n",
       "      <th>cgrouped</th>\n",
       "      <th>campaign_length</th>\n",
       "      <th>time_until_launch</th>\n",
       "    </tr>\n",
       "  </thead>\n",
       "  <tbody>\n",
       "    <tr>\n",
       "      <th>149091</th>\n",
       "      <td>117</td>\n",
       "      <td>10000.0</td>\n",
       "      <td>False</td>\n",
       "      <td>Tabletop Games</td>\n",
       "      <td>US</td>\n",
       "      <td>375.76</td>\n",
       "      <td>345.76</td>\n",
       "    </tr>\n",
       "    <tr>\n",
       "      <th>66548</th>\n",
       "      <td>42</td>\n",
       "      <td>850.0</td>\n",
       "      <td>False</td>\n",
       "      <td>Playing Cards</td>\n",
       "      <td>US</td>\n",
       "      <td>30.01</td>\n",
       "      <td>0.02</td>\n",
       "    </tr>\n",
       "    <tr>\n",
       "      <th>14015</th>\n",
       "      <td>0</td>\n",
       "      <td>450.0</td>\n",
       "      <td>False</td>\n",
       "      <td>Painting</td>\n",
       "      <td>Europe</td>\n",
       "      <td>30.53</td>\n",
       "      <td>0.53</td>\n",
       "    </tr>\n",
       "    <tr>\n",
       "      <th>97463</th>\n",
       "      <td>35</td>\n",
       "      <td>7000.0</td>\n",
       "      <td>False</td>\n",
       "      <td>Webseries</td>\n",
       "      <td>US</td>\n",
       "      <td>75.63</td>\n",
       "      <td>50.63</td>\n",
       "    </tr>\n",
       "    <tr>\n",
       "      <th>86772</th>\n",
       "      <td>9</td>\n",
       "      <td>2000.0</td>\n",
       "      <td>False</td>\n",
       "      <td>Interactive Design</td>\n",
       "      <td>US</td>\n",
       "      <td>73.58</td>\n",
       "      <td>58.10</td>\n",
       "    </tr>\n",
       "    <tr>\n",
       "      <th>...</th>\n",
       "      <td>...</td>\n",
       "      <td>...</td>\n",
       "      <td>...</td>\n",
       "      <td>...</td>\n",
       "      <td>...</td>\n",
       "      <td>...</td>\n",
       "      <td>...</td>\n",
       "    </tr>\n",
       "    <tr>\n",
       "      <th>111743</th>\n",
       "      <td>6</td>\n",
       "      <td>750000.0</td>\n",
       "      <td>False</td>\n",
       "      <td>Mixed Media</td>\n",
       "      <td>GB</td>\n",
       "      <td>161.14</td>\n",
       "      <td>131.14</td>\n",
       "    </tr>\n",
       "    <tr>\n",
       "      <th>121800</th>\n",
       "      <td>7</td>\n",
       "      <td>3500.0</td>\n",
       "      <td>False</td>\n",
       "      <td>DIY</td>\n",
       "      <td>US</td>\n",
       "      <td>45.23</td>\n",
       "      <td>10.23</td>\n",
       "    </tr>\n",
       "    <tr>\n",
       "      <th>60952</th>\n",
       "      <td>4</td>\n",
       "      <td>30000.0</td>\n",
       "      <td>False</td>\n",
       "      <td>Apps</td>\n",
       "      <td>Europe</td>\n",
       "      <td>458.53</td>\n",
       "      <td>428.53</td>\n",
       "    </tr>\n",
       "    <tr>\n",
       "      <th>99647</th>\n",
       "      <td>202</td>\n",
       "      <td>15000.0</td>\n",
       "      <td>True</td>\n",
       "      <td>Graphic Novels</td>\n",
       "      <td>US</td>\n",
       "      <td>35.65</td>\n",
       "      <td>5.65</td>\n",
       "    </tr>\n",
       "    <tr>\n",
       "      <th>137747</th>\n",
       "      <td>25</td>\n",
       "      <td>15000.0</td>\n",
       "      <td>False</td>\n",
       "      <td>Drinks</td>\n",
       "      <td>US</td>\n",
       "      <td>70.26</td>\n",
       "      <td>10.26</td>\n",
       "    </tr>\n",
       "  </tbody>\n",
       "</table>\n",
       "<p>6074 rows × 7 columns</p>\n",
       "</div>"
      ],
      "text/plain": [
       "        backers_count      goal  staff_pick       category_name cgrouped  \\\n",
       "149091            117   10000.0       False      Tabletop Games       US   \n",
       "66548              42     850.0       False       Playing Cards       US   \n",
       "14015               0     450.0       False            Painting   Europe   \n",
       "97463              35    7000.0       False           Webseries       US   \n",
       "86772               9    2000.0       False  Interactive Design       US   \n",
       "...               ...       ...         ...                 ...      ...   \n",
       "111743              6  750000.0       False         Mixed Media       GB   \n",
       "121800              7    3500.0       False                 DIY       US   \n",
       "60952               4   30000.0       False                Apps   Europe   \n",
       "99647             202   15000.0        True      Graphic Novels       US   \n",
       "137747             25   15000.0       False              Drinks       US   \n",
       "\n",
       "        campaign_length  time_until_launch  \n",
       "149091           375.76             345.76  \n",
       "66548             30.01               0.02  \n",
       "14015             30.53               0.53  \n",
       "97463             75.63              50.63  \n",
       "86772             73.58              58.10  \n",
       "...                 ...                ...  \n",
       "111743           161.14             131.14  \n",
       "121800            45.23              10.23  \n",
       "60952            458.53             428.53  \n",
       "99647             35.65               5.65  \n",
       "137747            70.26              10.26  \n",
       "\n",
       "[6074 rows x 7 columns]"
      ]
     },
     "execution_count": 12,
     "metadata": {},
     "output_type": "execute_result"
    }
   ],
   "source": [
    "X_train"
   ]
  },
  {
   "cell_type": "markdown",
   "id": "portuguese-teaching",
   "metadata": {},
   "source": [
    "## Setup the preprocessing pipeline"
   ]
  },
  {
   "cell_type": "code",
   "execution_count": 13,
   "id": "relevant-eclipse",
   "metadata": {},
   "outputs": [],
   "source": [
    "# Pipeline for numerical features \n",
    "num_pipeline = Pipeline([\n",
    "    ('imputer_num', SimpleImputer(strategy='median')),\n",
    "    ('std_scaler', StandardScaler())\n",
    "])\n",
    "# Pipeline for categorical features\n",
    "cat_pipeline = Pipeline([\n",
    "    ('imputer_cat', SimpleImputer(strategy='constant', fill_value='missing')),\n",
    "    ('1hot', OneHotEncoder(handle_unknown='ignore'))\n",
    "])"
   ]
  },
  {
   "cell_type": "code",
   "execution_count": 14,
   "id": "suffering-uruguay",
   "metadata": {},
   "outputs": [],
   "source": [
    "# Complete pipeline for numerical and categorical features\n",
    "preprocessor = ColumnTransformer([\n",
    "    ('num', num_pipeline, num_features),\n",
    "    ('cat', cat_pipeline, cat_features)\n",
    "])\n",
    "\n",
    "#preprocess validationData\n",
    "preprocessor.fit(X_train)\n",
    "X_test = preprocessor.transform(X_test)\n",
    "#X_train = preprocessor.transform(X_train)\n",
    "#extract feature names\n",
    "cat_cols= preprocessor.transformers_[1][1].named_steps[\"1hot\"].get_feature_names(cat_features)\n",
    "features = list(num_features) + list(cat_cols)"
   ]
  },
  {
   "cell_type": "markdown",
   "id": "mysterious-update",
   "metadata": {},
   "source": [
    "# Logistic Regression"
   ]
  },
  {
   "cell_type": "code",
   "execution_count": 90,
   "id": "muslim-tower",
   "metadata": {},
   "outputs": [],
   "source": [
    "# LogisticRegression Classifier\n",
    "pipe_logreg = Pipeline([\n",
    "    ('preprocessor', preprocessor),\n",
    "    ('logreg', LogisticRegression())\n",
    "])\n",
    "\n",
    "#Grid search Parameters\n",
    "param_logreg = {\"logreg__penalty\":['l2'],\n",
    "                \"logreg__dual\":[False],\n",
    "                \"logreg__tol\":[0.01, 0.1, 1, 10],\n",
    "                \"logreg__C\":[0.1, 1.0, 10, 100],\n",
    "                \"logreg__fit_intercept\":[True],\n",
    "                \"logreg__intercept_scaling\":[1],\n",
    "                \"logreg__class_weight\":[None],\n",
    "                \"logreg__random_state\":[RSEED],\n",
    "                \"logreg__solver\":['lbfgs'],\n",
    "                \"logreg__max_iter\":[100,1000,10000],\n",
    "                \"logreg__multi_class\":['auto'],\n",
    "                \"logreg__verbose\":[0],\n",
    "                \"logreg__warm_start\":[False],\n",
    "                \"logreg__n_jobs\":[None],\n",
    "                \"logreg__l1_ratio\":[None],\n",
    "               }\n",
    "\n",
    "grid_logreg = GridSearchCV(pipe_logreg,\n",
    "                           param_grid=param_logreg,\n",
    "                           cv=5, \n",
    "                           scoring='accuracy',\n",
    "                           verbose=5, \n",
    "                           n_jobs=-1)"
   ]
  },
  {
   "cell_type": "code",
   "execution_count": 91,
   "id": "golden-viking",
   "metadata": {},
   "outputs": [
    {
     "name": "stdout",
     "output_type": "stream",
     "text": [
      "Fitting 5 folds for each of 48 candidates, totalling 240 fits\n"
     ]
    }
   ],
   "source": [
    "grid_logreg.fit(X_train, y_train);"
   ]
  },
  {
   "cell_type": "code",
   "execution_count": 92,
   "id": "corporate-broadcasting",
   "metadata": {},
   "outputs": [
    {
     "data": {
      "text/plain": [
       "{'logreg__C': 100,\n",
       " 'logreg__class_weight': None,\n",
       " 'logreg__dual': False,\n",
       " 'logreg__fit_intercept': True,\n",
       " 'logreg__intercept_scaling': 1,\n",
       " 'logreg__l1_ratio': None,\n",
       " 'logreg__max_iter': 1000,\n",
       " 'logreg__multi_class': 'auto',\n",
       " 'logreg__n_jobs': None,\n",
       " 'logreg__penalty': 'l2',\n",
       " 'logreg__random_state': 42,\n",
       " 'logreg__solver': 'lbfgs',\n",
       " 'logreg__tol': 0.01,\n",
       " 'logreg__verbose': 0,\n",
       " 'logreg__warm_start': False}"
      ]
     },
     "execution_count": 92,
     "metadata": {},
     "output_type": "execute_result"
    }
   ],
   "source": [
    "grid_logreg.best_params_"
   ]
  },
  {
   "cell_type": "code",
   "execution_count": 93,
   "id": "broadband-lafayette",
   "metadata": {},
   "outputs": [
    {
     "name": "stdout",
     "output_type": "stream",
     "text": [
      "              precision    recall  f1-score   support\n",
      "\n",
      "           0       0.85      0.93      0.89     13348\n",
      "           1       0.94      0.88      0.91     17026\n",
      "\n",
      "    accuracy                           0.90     30374\n",
      "   macro avg       0.90      0.90      0.90     30374\n",
      "weighted avg       0.90      0.90      0.90     30374\n",
      "\n"
     ]
    }
   ],
   "source": [
    "logreg_model = grid_logreg.best_estimator_['logreg']\n",
    "y_log_pred_test = logreg_model.predict(X_test)\n",
    "print(sm.classification_report(y_test, y_log_pred_test))"
   ]
  },
  {
   "cell_type": "code",
   "execution_count": 94,
   "id": "fatal-planner",
   "metadata": {},
   "outputs": [
    {
     "data": {
      "image/png": "[encoded data removed]",
      "text/plain": [
       "<Figure size 432x288 with 2 Axes>"
      ]
     },
     "metadata": {},
     "output_type": "display_data"
    }
   ],
   "source": [
    "# Print confusion matrix\n",
    "sns.heatmap(confusion_matrix(y_test, y_log_pred_test), annot=True, cmap='YlGn', fmt='d');"
   ]
  },
  {
   "cell_type": "code",
   "execution_count": 20,
   "id": "advised-helping",
   "metadata": {},
   "outputs": [],
   "source": [
    "filename = './models/LogRegModel.sav'\n",
    "pickle.dump(logreg_model, open(filename, 'wb'))"
   ]
  },
  {
   "cell_type": "markdown",
   "id": "dressed-miniature",
   "metadata": {},
   "source": [
    "# KNN"
   ]
  },
  {
   "cell_type": "code",
   "execution_count": 21,
   "id": "noble-annual",
   "metadata": {},
   "outputs": [],
   "source": [
    "pipe_knn = Pipeline([\n",
    "    ('preprocessor', preprocessor),\n",
    "    ('knn', KNeighborsClassifier())\n",
    "])\n",
    "\n",
    "#Grid search Parameters\n",
    "param_knn = {\n",
    "            \"knn__n_neighbors\":[5,20,50],\n",
    "            \"knn__weights\":['uniform',\"distance\"],\n",
    "            \"knn__algorithm\":['auto'],\n",
    "            \"knn__leaf_size\":[30],\n",
    "            \"knn__p\":[2,1,100],\n",
    "            \"knn__metric\":['minkowski'],\n",
    "            \"knn__metric_params\":[None],\n",
    "            \"knn__n_jobs\":[None],\n",
    "               }\n",
    "\n",
    "grid_knn = GridSearchCV(pipe_knn,\n",
    "                           param_grid=param_knn,\n",
    "                           cv=5, \n",
    "                           scoring='precision',\n",
    "                           verbose=5, \n",
    "                           n_jobs=-1)"
   ]
  },
  {
   "cell_type": "code",
   "execution_count": 22,
   "id": "collected-fitness",
   "metadata": {},
   "outputs": [
    {
     "name": "stdout",
     "output_type": "stream",
     "text": [
      "Fitting 5 folds for each of 18 candidates, totalling 90 fits\n"
     ]
    },
    {
     "name": "stderr",
     "output_type": "stream",
     "text": [
      "/Users/pmcrae/Documents/neueFische/project-kickstarter/.venv/lib/python3.8/site-packages/sklearn/model_selection/_search.py:918: UserWarning: One or more of the test scores are non-finite: [0.85465538 0.84570317 0.8628938  0.85529221        nan        nan\n",
      " 0.87470701 0.87118347 0.88679423 0.87875739        nan        nan\n",
      " 0.87368625 0.87546603 0.88009274 0.8863161         nan        nan]\n",
      "  warnings.warn(\n"
     ]
    }
   ],
   "source": [
    "grid_knn.fit(X_train, y_train);"
   ]
  },
  {
   "cell_type": "code",
   "execution_count": 23,
   "id": "cubic-publication",
   "metadata": {},
   "outputs": [
    {
     "data": {
      "text/plain": [
       "{'knn__algorithm': 'auto',\n",
       " 'knn__leaf_size': 30,\n",
       " 'knn__metric': 'minkowski',\n",
       " 'knn__metric_params': None,\n",
       " 'knn__n_jobs': None,\n",
       " 'knn__n_neighbors': 20,\n",
       " 'knn__p': 1,\n",
       " 'knn__weights': 'uniform'}"
      ]
     },
     "execution_count": 23,
     "metadata": {},
     "output_type": "execute_result"
    }
   ],
   "source": [
    "grid_knn.best_params_"
   ]
  },
  {
   "cell_type": "code",
   "execution_count": 24,
   "id": "mysterious-brunswick",
   "metadata": {},
   "outputs": [
    {
     "name": "stdout",
     "output_type": "stream",
     "text": [
      "              precision    recall  f1-score   support\n",
      "\n",
      "           0       0.76      0.86      0.81     13348\n",
      "           1       0.88      0.78      0.83     17026\n",
      "\n",
      "    accuracy                           0.82     30374\n",
      "   macro avg       0.82      0.82      0.82     30374\n",
      "weighted avg       0.83      0.82      0.82     30374\n",
      "\n"
     ]
    }
   ],
   "source": [
    "knn_model = grid_knn.best_estimator_['knn']\n",
    "y_knn_pred_test = knn_model.predict(X_test)\n",
    "print(sm.classification_report(y_test, y_knn_pred_test))"
   ]
  },
  {
   "cell_type": "code",
   "execution_count": 25,
   "id": "interior-screw",
   "metadata": {},
   "outputs": [
    {
     "data": {
      "image/png": "[encoded data removed]",
      "text/plain": [
       "<Figure size 432x288 with 2 Axes>"
      ]
     },
     "metadata": {
      "needs_background": "light"
     },
     "output_type": "display_data"
    }
   ],
   "source": [
    "sns.heatmap(confusion_matrix(y_test, y_knn_pred_test), annot=True, cmap='YlGn', fmt='d');"
   ]
  },
  {
   "cell_type": "code",
   "execution_count": 26,
   "id": "adaptive-stress",
   "metadata": {},
   "outputs": [],
   "source": [
    "filename = './models/KNNModel.sav'\n",
    "pickle.dump(knn_model, open(filename, 'wb'))"
   ]
  },
  {
   "cell_type": "markdown",
   "id": "broken-studio",
   "metadata": {},
   "source": [
    "# Naive Bayes"
   ]
  },
  {
   "cell_type": "code",
   "execution_count": 27,
   "id": "turkish-quantum",
   "metadata": {},
   "outputs": [],
   "source": [
    "pipe_nb = Pipeline([\n",
    "    ('preprocessor', preprocessor),\n",
    "    ('nb', BernoulliNB())\n",
    "])\n",
    "\n",
    "#Grid search Parameters\n",
    "param_nb = {'nb__alpha': [1,3,10,30],\n",
    "            \"nb__binarize\" : [0.0],\n",
    "            \"nb__fit_prior\":[True],\n",
    "            \"nb__class_prior\":[None]\n",
    "            }\n",
    "\n",
    "\n",
    "grid_nb = GridSearchCV(pipe_nb,\n",
    "                           param_grid=param_nb,\n",
    "                           cv=5, \n",
    "                           scoring='precision',\n",
    "                           verbose=5, \n",
    "                           n_jobs=-1)"
   ]
  },
  {
   "cell_type": "code",
   "execution_count": 28,
   "id": "driving-hawaiian",
   "metadata": {},
   "outputs": [
    {
     "name": "stdout",
     "output_type": "stream",
     "text": [
      "Fitting 5 folds for each of 4 candidates, totalling 20 fits\n"
     ]
    }
   ],
   "source": [
    "grid_nb.fit(X_train, y_train);"
   ]
  },
  {
   "cell_type": "code",
   "execution_count": 29,
   "id": "early-vegetable",
   "metadata": {},
   "outputs": [
    {
     "data": {
      "text/plain": [
       "{'nb__alpha': 3,\n",
       " 'nb__binarize': 0.0,\n",
       " 'nb__class_prior': None,\n",
       " 'nb__fit_prior': True}"
      ]
     },
     "execution_count": 29,
     "metadata": {},
     "output_type": "execute_result"
    }
   ],
   "source": [
    "grid_nb.best_params_"
   ]
  },
  {
   "cell_type": "code",
   "execution_count": 30,
   "id": "connected-garbage",
   "metadata": {},
   "outputs": [
    {
     "name": "stdout",
     "output_type": "stream",
     "text": [
      "              precision    recall  f1-score   support\n",
      "\n",
      "           0       0.74      0.86      0.79     13348\n",
      "           1       0.87      0.76      0.81     17026\n",
      "\n",
      "    accuracy                           0.80     30374\n",
      "   macro avg       0.81      0.81      0.80     30374\n",
      "weighted avg       0.81      0.80      0.81     30374\n",
      "\n"
     ]
    }
   ],
   "source": [
    "nb_model = grid_nb.best_estimator_['nb']\n",
    "y_nb_pred_test = nb_model.predict(X_test)\n",
    "print(sm.classification_report(y_test, y_nb_pred_test))"
   ]
  },
  {
   "cell_type": "code",
   "execution_count": 31,
   "id": "significant-minimum",
   "metadata": {},
   "outputs": [
    {
     "data": {
      "image/png": "[encoded data removed]",
      "text/plain": [
       "<Figure size 432x288 with 2 Axes>"
      ]
     },
     "metadata": {
      "needs_background": "light"
     },
     "output_type": "display_data"
    }
   ],
   "source": [
    "sns.heatmap(confusion_matrix(y_test, y_nb_pred_test), annot=True, cmap='YlGn', fmt='d');"
   ]
  },
  {
   "cell_type": "code",
   "execution_count": 32,
   "id": "split-account",
   "metadata": {},
   "outputs": [],
   "source": [
    "filename = './models/NaiveBayesModel.sav'\n",
    "pickle.dump(nb_model, open(filename, 'wb'))"
   ]
  },
  {
   "cell_type": "markdown",
   "id": "greenhouse-dealer",
   "metadata": {},
   "source": [
    "# Decision Tree"
   ]
  },
  {
   "cell_type": "code",
   "execution_count": 33,
   "id": "vietnamese-discipline",
   "metadata": {},
   "outputs": [],
   "source": [
    "pipe_dt = Pipeline([\n",
    "    ('preprocessor', preprocessor),\n",
    "    ('dt', DecisionTreeClassifier())\n",
    "])\n",
    "\n",
    "#Grid search Parameters\n",
    "param_dt = {\"dt__criterion\":['gini',\"entropy\"],\n",
    "            \"dt__splitter\":['best'],\n",
    "            \"dt__max_depth\":[None,5,8,10,15,20],\n",
    "            \"dt__min_samples_split\":[10,50,100],\n",
    "            \"dt__min_samples_leaf\":[2],\n",
    "            \"dt__min_weight_fraction_leaf\":[0.0],\n",
    "            \"dt__max_features\":[None],\n",
    "            \"dt__random_state\":[RSEED],\n",
    "            \"dt__max_leaf_nodes\":[None],\n",
    "            \"dt__min_impurity_decrease\":[0.0],\n",
    "            \"dt__min_impurity_split\":[None],\n",
    "            \"dt__class_weight\":[None],\n",
    "            \"dt__ccp_alpha\":[0.0],\n",
    "            }\n",
    "\n",
    "grid_dt = GridSearchCV(pipe_dt,\n",
    "                           param_grid=param_dt,\n",
    "                           cv=5, \n",
    "                           scoring='precision',\n",
    "                           verbose=5, \n",
    "                           n_jobs=-1)"
   ]
  },
  {
   "cell_type": "code",
   "execution_count": 34,
   "id": "certified-showcase",
   "metadata": {},
   "outputs": [
    {
     "name": "stdout",
     "output_type": "stream",
     "text": [
      "Fitting 5 folds for each of 36 candidates, totalling 180 fits\n"
     ]
    }
   ],
   "source": [
    "grid_dt.fit(X_train,y_train);"
   ]
  },
  {
   "cell_type": "code",
   "execution_count": 35,
   "id": "equipped-diana",
   "metadata": {},
   "outputs": [
    {
     "data": {
      "text/plain": [
       "{'dt__ccp_alpha': 0.0,\n",
       " 'dt__class_weight': None,\n",
       " 'dt__criterion': 'entropy',\n",
       " 'dt__max_depth': 5,\n",
       " 'dt__max_features': None,\n",
       " 'dt__max_leaf_nodes': None,\n",
       " 'dt__min_impurity_decrease': 0.0,\n",
       " 'dt__min_impurity_split': None,\n",
       " 'dt__min_samples_leaf': 2,\n",
       " 'dt__min_samples_split': 50,\n",
       " 'dt__min_weight_fraction_leaf': 0.0,\n",
       " 'dt__random_state': 42,\n",
       " 'dt__splitter': 'best'}"
      ]
     },
     "execution_count": 35,
     "metadata": {},
     "output_type": "execute_result"
    }
   ],
   "source": [
    "grid_dt.best_params_"
   ]
  },
  {
   "cell_type": "code",
   "execution_count": 36,
   "id": "younger-detail",
   "metadata": {},
   "outputs": [
    {
     "name": "stdout",
     "output_type": "stream",
     "text": [
      "              precision    recall  f1-score   support\n",
      "\n",
      "           0       0.92      0.90      0.91     13348\n",
      "           1       0.92      0.94      0.93     17026\n",
      "\n",
      "    accuracy                           0.92     30374\n",
      "   macro avg       0.92      0.92      0.92     30374\n",
      "weighted avg       0.92      0.92      0.92     30374\n",
      "\n"
     ]
    }
   ],
   "source": [
    "dt_model = grid_dt.best_estimator_[\"dt\"]\n",
    "y_dt_pred_test = dt_model.predict(X_test)\n",
    "print(sm.classification_report(y_test, y_dt_pred_test))"
   ]
  },
  {
   "cell_type": "code",
   "execution_count": 37,
   "id": "textile-multiple",
   "metadata": {},
   "outputs": [
    {
     "data": {
      "image/png": "[encoded data removed]",
      "text/plain": [
       "<Figure size 432x288 with 2 Axes>"
      ]
     },
     "metadata": {
      "needs_background": "light"
     },
     "output_type": "display_data"
    }
   ],
   "source": [
    "sns.heatmap(confusion_matrix(y_test, y_dt_pred_test), annot=True, cmap='YlGn', fmt='d');"
   ]
  },
  {
   "cell_type": "code",
   "execution_count": 38,
   "id": "romantic-automation",
   "metadata": {},
   "outputs": [
    {
     "data": {
      "text/html": [
       "<div>\n",
       "<style scoped>\n",
       "    .dataframe tbody tr th:only-of-type {\n",
       "        vertical-align: middle;\n",
       "    }\n",
       "\n",
       "    .dataframe tbody tr th {\n",
       "        vertical-align: top;\n",
       "    }\n",
       "\n",
       "    .dataframe thead th {\n",
       "        text-align: right;\n",
       "    }\n",
       "</style>\n",
       "<table border=\"1\" class=\"dataframe\">\n",
       "  <thead>\n",
       "    <tr style=\"text-align: right;\">\n",
       "      <th></th>\n",
       "      <th>feature</th>\n",
       "      <th>importance</th>\n",
       "    </tr>\n",
       "  </thead>\n",
       "  <tbody>\n",
       "    <tr>\n",
       "      <th>0</th>\n",
       "      <td>backers_count</td>\n",
       "      <td>0.793245</td>\n",
       "    </tr>\n",
       "    <tr>\n",
       "      <th>1</th>\n",
       "      <td>goal</td>\n",
       "      <td>0.196475</td>\n",
       "    </tr>\n",
       "    <tr>\n",
       "      <th>162</th>\n",
       "      <td>cgrouped_Asia</td>\n",
       "      <td>0.003391</td>\n",
       "    </tr>\n",
       "    <tr>\n",
       "      <th>4</th>\n",
       "      <td>time_until_launch</td>\n",
       "      <td>0.001773</td>\n",
       "    </tr>\n",
       "    <tr>\n",
       "      <th>155</th>\n",
       "      <td>category_name_Webcomics</td>\n",
       "      <td>0.001704</td>\n",
       "    </tr>\n",
       "    <tr>\n",
       "      <th>3</th>\n",
       "      <td>campaign_length</td>\n",
       "      <td>0.001594</td>\n",
       "    </tr>\n",
       "    <tr>\n",
       "      <th>129</th>\n",
       "      <td>category_name_Rock</td>\n",
       "      <td>0.000926</td>\n",
       "    </tr>\n",
       "    <tr>\n",
       "      <th>7</th>\n",
       "      <td>category_name_Accessories</td>\n",
       "      <td>0.000891</td>\n",
       "    </tr>\n",
       "    <tr>\n",
       "      <th>108</th>\n",
       "      <td>category_name_Photobooks</td>\n",
       "      <td>0.000000</td>\n",
       "    </tr>\n",
       "    <tr>\n",
       "      <th>109</th>\n",
       "      <td>category_name_Photography</td>\n",
       "      <td>0.000000</td>\n",
       "    </tr>\n",
       "  </tbody>\n",
       "</table>\n",
       "</div>"
      ],
      "text/plain": [
       "                       feature  importance\n",
       "0                backers_count    0.793245\n",
       "1                         goal    0.196475\n",
       "162              cgrouped_Asia    0.003391\n",
       "4            time_until_launch    0.001773\n",
       "155    category_name_Webcomics    0.001704\n",
       "3              campaign_length    0.001594\n",
       "129         category_name_Rock    0.000926\n",
       "7    category_name_Accessories    0.000891\n",
       "108   category_name_Photobooks    0.000000\n",
       "109  category_name_Photography    0.000000"
      ]
     },
     "execution_count": 38,
     "metadata": {},
     "output_type": "execute_result"
    }
   ],
   "source": [
    "fi = pd.DataFrame({'feature': features,\n",
    "                   'importance': dt_model.feature_importances_}).\\\n",
    "                    sort_values('importance', ascending = False)\n",
    "fi.head(10)"
   ]
  },
  {
   "cell_type": "code",
   "execution_count": 39,
   "id": "irish-binary",
   "metadata": {},
   "outputs": [
    {
     "data": {
      "text/plain": [
       "'tree3.dot.png'"
      ]
     },
     "execution_count": 39,
     "metadata": {},
     "output_type": "execute_result"
    }
   ],
   "source": [
    "from graphviz import render\n",
    "from graphviz import Source\n",
    "\n",
    "tree.export_graphviz(dt_model,\n",
    "                     out_file=\"tree3.dot\",\n",
    "                     feature_names = features, \n",
    "                     class_names=[\"failed\", \"sucessful\"],\n",
    "                     filled = True)\n",
    "# Convert a .dot file to .png\n",
    "\n",
    "render(\"dot\", \"png\", \"tree3.dot\")\n",
    "# To render an existing file in a notebook\n",
    "\n",
    "#Source.from_file(\"tree3.dot\")"
   ]
  },
  {
   "cell_type": "code",
   "execution_count": 40,
   "id": "dressed-contemporary",
   "metadata": {},
   "outputs": [],
   "source": [
    "filename = './models/DecisionTreeModel.sav'\n",
    "pickle.dump(dt_model, open(filename, 'wb'))"
   ]
  },
  {
   "cell_type": "markdown",
   "id": "charming-appliance",
   "metadata": {},
   "source": [
    "# SVC"
   ]
  },
  {
   "cell_type": "code",
   "execution_count": 41,
   "id": "widespread-collins",
   "metadata": {},
   "outputs": [],
   "source": [
    "pipe_svc = Pipeline([\n",
    "    ('preprocessor', preprocessor),\n",
    "    ('svc', SVC())\n",
    "])\n",
    "\n",
    "#Grid search Parameters\n",
    "param_svc = {\n",
    "            \"svc__C\":[1.0, 0.1, 10.0, 100.0],\n",
    "            \"svc__kernel\":['rbf'],\n",
    "            \"svc__degree\":[3],\n",
    "            \"svc__gamma\":['scale',\"auto\"],\n",
    "            \"svc__coef0\":[0.0],\n",
    "            \"svc__shrinking\":[True],\n",
    "            \"svc__probability\":[False],\n",
    "            \"svc__tol\":[0.01,1e-4,1e-3,0.1],\n",
    "            \"svc__cache_size\":[200],\n",
    "            \"svc__class_weight\":[None],\n",
    "            \"svc__verbose\":[False],\n",
    "            \"svc__max_iter\":[-1],\n",
    "            \"svc__decision_function_shape\":['ovr'],\n",
    "            \"svc__break_ties\":[False],\n",
    "            \"svc__random_state\":[RSEED],\n",
    "            }\n",
    "\n",
    "grid_svc = GridSearchCV(pipe_svc,\n",
    "                           param_grid=param_svc,\n",
    "                           cv=5, \n",
    "                           scoring='precision',\n",
    "                           verbose=5, \n",
    "                           n_jobs=-1)"
   ]
  },
  {
   "cell_type": "code",
   "execution_count": 42,
   "id": "velvet-bicycle",
   "metadata": {},
   "outputs": [
    {
     "name": "stdout",
     "output_type": "stream",
     "text": [
      "Fitting 5 folds for each of 32 candidates, totalling 160 fits\n"
     ]
    }
   ],
   "source": [
    "grid_svc.fit(X_train,y_train);"
   ]
  },
  {
   "cell_type": "code",
   "execution_count": 43,
   "id": "consistent-chaos",
   "metadata": {},
   "outputs": [
    {
     "data": {
      "text/plain": [
       "{'svc__C': 100.0,\n",
       " 'svc__break_ties': False,\n",
       " 'svc__cache_size': 200,\n",
       " 'svc__class_weight': None,\n",
       " 'svc__coef0': 0.0,\n",
       " 'svc__decision_function_shape': 'ovr',\n",
       " 'svc__degree': 3,\n",
       " 'svc__gamma': 'auto',\n",
       " 'svc__kernel': 'rbf',\n",
       " 'svc__max_iter': -1,\n",
       " 'svc__probability': False,\n",
       " 'svc__random_state': 42,\n",
       " 'svc__shrinking': True,\n",
       " 'svc__tol': 0.0001,\n",
       " 'svc__verbose': False}"
      ]
     },
     "execution_count": 43,
     "metadata": {},
     "output_type": "execute_result"
    }
   ],
   "source": [
    "grid_svc.best_params_"
   ]
  },
  {
   "cell_type": "code",
   "execution_count": 44,
   "id": "arctic-uganda",
   "metadata": {},
   "outputs": [
    {
     "name": "stdout",
     "output_type": "stream",
     "text": [
      "              precision    recall  f1-score   support\n",
      "\n",
      "           0       0.81      0.91      0.86     13348\n",
      "           1       0.92      0.83      0.87     17026\n",
      "\n",
      "    accuracy                           0.87     30374\n",
      "   macro avg       0.86      0.87      0.87     30374\n",
      "weighted avg       0.87      0.87      0.87     30374\n",
      "\n"
     ]
    }
   ],
   "source": [
    "svc_model = grid_svc.best_estimator_[\"svc\"]\n",
    "y_svc_pred_test = svc_model.predict(X_test)\n",
    "print(sm.classification_report(y_test,y_svc_pred_test))"
   ]
  },
  {
   "cell_type": "code",
   "execution_count": 45,
   "id": "macro-archive",
   "metadata": {},
   "outputs": [
    {
     "data": {
      "image/png": "[encoded data removed]",
      "text/plain": [
       "<Figure size 432x288 with 2 Axes>"
      ]
     },
     "metadata": {
      "needs_background": "light"
     },
     "output_type": "display_data"
    }
   ],
   "source": [
    "sns.heatmap(confusion_matrix(y_test, y_svc_pred_test), annot=True, cmap='YlGn', fmt='d');"
   ]
  },
  {
   "cell_type": "code",
   "execution_count": 46,
   "id": "declared-deployment",
   "metadata": {},
   "outputs": [],
   "source": [
    "filename = './models/SVCModel.sav'\n",
    "pickle.dump(svc_model, open(filename, 'wb'))"
   ]
  },
  {
   "cell_type": "markdown",
   "id": "fatal-sunrise",
   "metadata": {},
   "source": [
    "# Random Forest"
   ]
  },
  {
   "cell_type": "code",
   "execution_count": 47,
   "id": "potential-surprise",
   "metadata": {},
   "outputs": [],
   "source": [
    "pipe_rf = Pipeline([\n",
    "    ('preprocessor', preprocessor),\n",
    "    ('rf', RandomForestClassifier())\n",
    "])\n",
    "\n",
    "#Grid search Parameters\n",
    "param_rf = {\n",
    "            \"rf__n_estimators\":[100, 500, 1000],\n",
    "            \"rf__criterion\":['gini',\"entropy\"],\n",
    "            \"rf__max_depth\":[None,1,2,5],\n",
    "            \"rf__min_samples_split\":[2,10,50],\n",
    "            \"rf__min_samples_leaf\":[1],\n",
    "            \"rf__min_weight_fraction_leaf\":[0.0],\n",
    "            \"rf__max_features\":['auto',\"sqrt\"],\n",
    "            \"rf__max_leaf_nodes\":[None],\n",
    "            \"rf__min_impurity_decrease\":[0.0],\n",
    "            \"rf__min_impurity_split\":[None],\n",
    "            \"rf__bootstrap\":[True],\n",
    "            \"rf__oob_score\":[False],\n",
    "            \"rf__n_jobs\":[None],\n",
    "            \"rf__random_state\":[RSEED],\n",
    "            \"rf__verbose\":[0],\n",
    "            \"rf__warm_start\":[False],\n",
    "            \"rf__class_weight\":[None],\n",
    "            \"rf__ccp_alpha\":[0.0],\n",
    "            \"rf__max_samples\":[None],\n",
    "            }\n",
    "\n",
    "grid_rf = GridSearchCV(pipe_rf,\n",
    "                           param_grid=param_rf,\n",
    "                           cv=5, \n",
    "                           scoring='precision',\n",
    "                           verbose=5, \n",
    "                           n_jobs=-1)"
   ]
  },
  {
   "cell_type": "code",
   "execution_count": 48,
   "id": "inside-parameter",
   "metadata": {},
   "outputs": [
    {
     "name": "stdout",
     "output_type": "stream",
     "text": [
      "Fitting 5 folds for each of 180 candidates, totalling 900 fits\n"
     ]
    }
   ],
   "source": [
    "grid_rf.fit(X_train,y_train);"
   ]
  },
  {
   "cell_type": "code",
   "execution_count": 49,
   "id": "impressed-citation",
   "metadata": {},
   "outputs": [
    {
     "data": {
      "text/plain": [
       "{'rf__bootstrap': True,\n",
       " 'rf__ccp_alpha': 0.0,\n",
       " 'rf__class_weight': None,\n",
       " 'rf__criterion': 'entropy',\n",
       " 'rf__max_depth': None,\n",
       " 'rf__max_features': 'auto',\n",
       " 'rf__max_leaf_nodes': None,\n",
       " 'rf__max_samples': None,\n",
       " 'rf__min_impurity_decrease': 0.0,\n",
       " 'rf__min_impurity_split': None,\n",
       " 'rf__min_samples_leaf': 1,\n",
       " 'rf__min_samples_split': 2,\n",
       " 'rf__min_weight_fraction_leaf': 0.0,\n",
       " 'rf__n_estimators': 100,\n",
       " 'rf__n_jobs': None,\n",
       " 'rf__oob_score': False,\n",
       " 'rf__random_state': 42,\n",
       " 'rf__verbose': 0,\n",
       " 'rf__warm_start': False}"
      ]
     },
     "execution_count": 49,
     "metadata": {},
     "output_type": "execute_result"
    }
   ],
   "source": [
    "grid_rf.best_params_"
   ]
  },
  {
   "cell_type": "code",
   "execution_count": 50,
   "id": "composed-sucking",
   "metadata": {},
   "outputs": [
    {
     "name": "stdout",
     "output_type": "stream",
     "text": [
      "              precision    recall  f1-score   support\n",
      "\n",
      "           0       0.95      0.90      0.93     13348\n",
      "           1       0.93      0.96      0.94     17026\n",
      "\n",
      "    accuracy                           0.94     30374\n",
      "   macro avg       0.94      0.93      0.93     30374\n",
      "weighted avg       0.94      0.94      0.94     30374\n",
      "\n"
     ]
    }
   ],
   "source": [
    "rf_model = grid_rf.best_estimator_[\"rf\"]\n",
    "y_rf_pred_test = rf_model.predict(X_test)\n",
    "print(sm.classification_report(y_test,y_rf_pred_test))"
   ]
  },
  {
   "cell_type": "code",
   "execution_count": 51,
   "id": "consecutive-quebec",
   "metadata": {},
   "outputs": [
    {
     "data": {
      "text/html": [
       "<div>\n",
       "<style scoped>\n",
       "    .dataframe tbody tr th:only-of-type {\n",
       "        vertical-align: middle;\n",
       "    }\n",
       "\n",
       "    .dataframe tbody tr th {\n",
       "        vertical-align: top;\n",
       "    }\n",
       "\n",
       "    .dataframe thead th {\n",
       "        text-align: right;\n",
       "    }\n",
       "</style>\n",
       "<table border=\"1\" class=\"dataframe\">\n",
       "  <thead>\n",
       "    <tr style=\"text-align: right;\">\n",
       "      <th></th>\n",
       "      <th>feature</th>\n",
       "      <th>importance</th>\n",
       "    </tr>\n",
       "  </thead>\n",
       "  <tbody>\n",
       "    <tr>\n",
       "      <th>0</th>\n",
       "      <td>backers_count</td>\n",
       "      <td>0.477128</td>\n",
       "    </tr>\n",
       "    <tr>\n",
       "      <th>1</th>\n",
       "      <td>goal</td>\n",
       "      <td>0.112660</td>\n",
       "    </tr>\n",
       "    <tr>\n",
       "      <th>4</th>\n",
       "      <td>time_until_launch</td>\n",
       "      <td>0.063974</td>\n",
       "    </tr>\n",
       "    <tr>\n",
       "      <th>3</th>\n",
       "      <td>campaign_length</td>\n",
       "      <td>0.057215</td>\n",
       "    </tr>\n",
       "    <tr>\n",
       "      <th>2</th>\n",
       "      <td>staff_pick</td>\n",
       "      <td>0.033770</td>\n",
       "    </tr>\n",
       "    <tr>\n",
       "      <th>129</th>\n",
       "      <td>category_name_Rock</td>\n",
       "      <td>0.007780</td>\n",
       "    </tr>\n",
       "    <tr>\n",
       "      <th>59</th>\n",
       "      <td>category_name_Fiction</td>\n",
       "      <td>0.007252</td>\n",
       "    </tr>\n",
       "    <tr>\n",
       "      <th>167</th>\n",
       "      <td>cgrouped_US</td>\n",
       "      <td>0.006777</td>\n",
       "    </tr>\n",
       "    <tr>\n",
       "      <th>133</th>\n",
       "      <td>category_name_Shorts</td>\n",
       "      <td>0.006587</td>\n",
       "    </tr>\n",
       "    <tr>\n",
       "      <th>35</th>\n",
       "      <td>category_name_Country &amp; Folk</td>\n",
       "      <td>0.006323</td>\n",
       "    </tr>\n",
       "  </tbody>\n",
       "</table>\n",
       "</div>"
      ],
      "text/plain": [
       "                          feature  importance\n",
       "0                   backers_count    0.477128\n",
       "1                            goal    0.112660\n",
       "4               time_until_launch    0.063974\n",
       "3                 campaign_length    0.057215\n",
       "2                      staff_pick    0.033770\n",
       "129            category_name_Rock    0.007780\n",
       "59          category_name_Fiction    0.007252\n",
       "167                   cgrouped_US    0.006777\n",
       "133          category_name_Shorts    0.006587\n",
       "35   category_name_Country & Folk    0.006323"
      ]
     },
     "execution_count": 51,
     "metadata": {},
     "output_type": "execute_result"
    }
   ],
   "source": [
    "fi = pd.DataFrame({'feature': features,\n",
    "                   'importance': rf_model.feature_importances_}).\\\n",
    "                    sort_values('importance', ascending = False)\n",
    "fi.head(10)"
   ]
  },
  {
   "cell_type": "code",
   "execution_count": 52,
   "id": "accredited-fifth",
   "metadata": {},
   "outputs": [
    {
     "data": {
      "image/png": "[encoded data removed]",
      "text/plain": [
       "<Figure size 432x288 with 2 Axes>"
      ]
     },
     "metadata": {
      "needs_background": "light"
     },
     "output_type": "display_data"
    }
   ],
   "source": [
    "sns.heatmap(confusion_matrix(y_test, y_rf_pred_test), annot=True, cmap='YlGn', fmt='d');"
   ]
  },
  {
   "cell_type": "code",
   "execution_count": 53,
   "id": "transsexual-vintage",
   "metadata": {},
   "outputs": [],
   "source": [
    "filename = './models/RandomForestModel.sav'\n",
    "pickle.dump(rf_model, open(filename, 'wb'))"
   ]
  },
  {
   "cell_type": "markdown",
   "id": "growing-invitation",
   "metadata": {},
   "source": [
    "# AdaBoost"
   ]
  },
  {
   "cell_type": "code",
   "execution_count": 54,
   "id": "relevant-denial",
   "metadata": {},
   "outputs": [],
   "source": [
    "pipe_ab = Pipeline([\n",
    "    ('preprocessor', preprocessor),\n",
    "    ('ab', AdaBoostClassifier())\n",
    "])\n",
    "\n",
    "#Grid search Parameters\n",
    "param_ab = {            \n",
    "            \"ab__base_estimator\":[None, LogisticRegression(),BernoulliNB()],\n",
    "            \"ab__n_estimators\":[20,50,100],\n",
    "            \"ab__learning_rate\":[0.1,1.0,10],\n",
    "            \"ab__algorithm\":['SAMME.R'],\n",
    "            \"ab__random_state\":[RSEED],\n",
    "            }\n",
    "\n",
    "grid_ab = GridSearchCV(pipe_ab,\n",
    "                           param_grid=param_ab,\n",
    "                           cv=5, \n",
    "                           scoring='precision',\n",
    "                           verbose=5, \n",
    "                           n_jobs=-1)"
   ]
  },
  {
   "cell_type": "code",
   "execution_count": 55,
   "id": "brief-national",
   "metadata": {},
   "outputs": [
    {
     "name": "stdout",
     "output_type": "stream",
     "text": [
      "Fitting 5 folds for each of 27 candidates, totalling 135 fits\n"
     ]
    }
   ],
   "source": [
    "grid_ab.fit(X_train,y_train);"
   ]
  },
  {
   "cell_type": "code",
   "execution_count": 56,
   "id": "wicked-polyester",
   "metadata": {},
   "outputs": [
    {
     "data": {
      "text/plain": [
       "{'ab__algorithm': 'SAMME.R',\n",
       " 'ab__base_estimator': BernoulliNB(),\n",
       " 'ab__learning_rate': 0.1,\n",
       " 'ab__n_estimators': 50,\n",
       " 'ab__random_state': 42}"
      ]
     },
     "execution_count": 56,
     "metadata": {},
     "output_type": "execute_result"
    }
   ],
   "source": [
    "grid_ab.best_params_"
   ]
  },
  {
   "cell_type": "code",
   "execution_count": 57,
   "id": "awful-madagascar",
   "metadata": {},
   "outputs": [
    {
     "name": "stdout",
     "output_type": "stream",
     "text": [
      "              precision    recall  f1-score   support\n",
      "\n",
      "           0       0.46      1.00      0.63     13348\n",
      "           1       0.98      0.09      0.17     17026\n",
      "\n",
      "    accuracy                           0.49     30374\n",
      "   macro avg       0.72      0.55      0.40     30374\n",
      "weighted avg       0.75      0.49      0.37     30374\n",
      "\n"
     ]
    }
   ],
   "source": [
    "ab_model = grid_ab.best_estimator_[\"ab\"]\n",
    "y_ab_pred_test = ab_model.predict(X_test)\n",
    "print(sm.classification_report(y_test,y_ab_pred_test))"
   ]
  },
  {
   "cell_type": "code",
   "execution_count": 58,
   "id": "strong-error",
   "metadata": {},
   "outputs": [
    {
     "data": {
      "image/png": "[encoded data removed]",
      "text/plain": [
       "<Figure size 432x288 with 2 Axes>"
      ]
     },
     "metadata": {
      "needs_background": "light"
     },
     "output_type": "display_data"
    }
   ],
   "source": [
    "sns.heatmap(confusion_matrix(y_test, y_ab_pred_test), annot=True, cmap='YlGn', fmt='d');"
   ]
  },
  {
   "cell_type": "code",
   "execution_count": 59,
   "id": "novel-commissioner",
   "metadata": {},
   "outputs": [],
   "source": [
    "filename = './models/AdaBoostModel.sav'\n",
    "pickle.dump(ab_model, open(filename, 'wb'))"
   ]
  },
  {
   "cell_type": "markdown",
   "id": "proper-ancient",
   "metadata": {},
   "source": [
    "## Bagging SVC"
   ]
  },
  {
   "cell_type": "code",
   "execution_count": 60,
   "id": "associate-administration",
   "metadata": {},
   "outputs": [],
   "source": [
    "from sklearn.ensemble import BaggingClassifier\n",
    "\n",
    "pipe_bg = Pipeline([\n",
    "    ('preprocessor', preprocessor),\n",
    "    ('bg', BaggingClassifier())\n",
    "])\n",
    "\n",
    "maxfeatures = np.sqrt(X_train.shape[0]) / X_train.shape[0]\n",
    "\n",
    "param_bg = {            \n",
    "            \"bg__base_estimator\":[DecisionTreeClassifier()],\n",
    "            \"bg__n_estimators\":[100],\n",
    "            \"bg__max_samples\":[0.7], #1.0\n",
    "            \"bg__max_features\":[maxfeatures], #1.0\n",
    "            \"bg__bootstrap\":[True],\n",
    "            \"bg__bootstrap_features\":[False],\n",
    "            \"bg__oob_score\":[False],\n",
    "            \"bg__warm_start\":[False],\n",
    "            \"bg__n_jobs\":[None],\n",
    "            \"bg__random_state\":[RSEED],\n",
    "            \"bg__verbose\":[0],\n",
    "            }\n",
    "\n",
    "grid_bg = GridSearchCV(pipe_bg,\n",
    "                           param_grid=param_bg,\n",
    "                           cv=5, \n",
    "                           scoring='accuracy',\n",
    "                           verbose=5, \n",
    "                           n_jobs=-1)"
   ]
  },
  {
   "cell_type": "code",
   "execution_count": 61,
   "id": "peripheral-bacon",
   "metadata": {},
   "outputs": [
    {
     "name": "stdout",
     "output_type": "stream",
     "text": [
      "Fitting 5 folds for each of 1 candidates, totalling 5 fits\n"
     ]
    },
    {
     "data": {
      "text/plain": [
       "GridSearchCV(cv=5,\n",
       "             estimator=Pipeline(steps=[('preprocessor',\n",
       "                                        ColumnTransformer(transformers=[('num',\n",
       "                                                                         Pipeline(steps=[('imputer_num',\n",
       "                                                                                          SimpleImputer(strategy='median')),\n",
       "                                                                                         ('std_scaler',\n",
       "                                                                                          StandardScaler())]),\n",
       "                                                                         ['backers_count',\n",
       "                                                                          'goal',\n",
       "                                                                          'staff_pick',\n",
       "                                                                          'campaign_length',\n",
       "                                                                          'time_until_launch']),\n",
       "                                                                        ('cat',\n",
       "                                                                         Pipeline(steps=[('imputer_cat',\n",
       "                                                                                          SimpleImputer(fill_value='missing',\n",
       "                                                                                                        st...\n",
       "             n_jobs=-1,\n",
       "             param_grid={'bg__base_estimator': [DecisionTreeClassifier()],\n",
       "                         'bg__bootstrap': [True],\n",
       "                         'bg__bootstrap_features': [False],\n",
       "                         'bg__max_features': [0.012831062079946469],\n",
       "                         'bg__max_samples': [0.7], 'bg__n_estimators': [100],\n",
       "                         'bg__n_jobs': [None], 'bg__oob_score': [False],\n",
       "                         'bg__random_state': [42], 'bg__verbose': [0],\n",
       "                         'bg__warm_start': [False]},\n",
       "             scoring='accuracy', verbose=5)"
      ]
     },
     "execution_count": 61,
     "metadata": {},
     "output_type": "execute_result"
    }
   ],
   "source": [
    "grid_bg.fit(X_train,y_train)"
   ]
  },
  {
   "cell_type": "code",
   "execution_count": 62,
   "id": "limiting-programmer",
   "metadata": {},
   "outputs": [
    {
     "name": "stdout",
     "output_type": "stream",
     "text": [
      "              precision    recall  f1-score   support\n",
      "\n",
      "           0       0.00      0.00      0.00     13348\n",
      "           1       0.56      1.00      0.72     17026\n",
      "\n",
      "    accuracy                           0.56     30374\n",
      "   macro avg       0.28      0.50      0.36     30374\n",
      "weighted avg       0.31      0.56      0.40     30374\n",
      "\n"
     ]
    },
    {
     "name": "stderr",
     "output_type": "stream",
     "text": [
      "/Users/pmcrae/Documents/neueFische/project-kickstarter/.venv/lib/python3.8/site-packages/sklearn/metrics/_classification.py:1245: UndefinedMetricWarning: Precision and F-score are ill-defined and being set to 0.0 in labels with no predicted samples. Use `zero_division` parameter to control this behavior.\n",
      "  _warn_prf(average, modifier, msg_start, len(result))\n",
      "/Users/pmcrae/Documents/neueFische/project-kickstarter/.venv/lib/python3.8/site-packages/sklearn/metrics/_classification.py:1245: UndefinedMetricWarning: Precision and F-score are ill-defined and being set to 0.0 in labels with no predicted samples. Use `zero_division` parameter to control this behavior.\n",
      "  _warn_prf(average, modifier, msg_start, len(result))\n",
      "/Users/pmcrae/Documents/neueFische/project-kickstarter/.venv/lib/python3.8/site-packages/sklearn/metrics/_classification.py:1245: UndefinedMetricWarning: Precision and F-score are ill-defined and being set to 0.0 in labels with no predicted samples. Use `zero_division` parameter to control this behavior.\n",
      "  _warn_prf(average, modifier, msg_start, len(result))\n"
     ]
    }
   ],
   "source": [
    "bg_model = grid_bg.best_estimator_[\"bg\"]\n",
    "y_bg_pred_test = bg_model.predict(X_test)\n",
    "print(sm.classification_report(y_test,y_bg_pred_test))"
   ]
  },
  {
   "cell_type": "code",
   "execution_count": 63,
   "id": "otherwise-cartoon",
   "metadata": {},
   "outputs": [
    {
     "data": {
      "image/png": "[encoded data removed]",
      "text/plain": [
       "<Figure size 432x288 with 2 Axes>"
      ]
     },
     "metadata": {
      "needs_background": "light"
     },
     "output_type": "display_data"
    }
   ],
   "source": [
    "sns.heatmap(confusion_matrix(y_test, y_bg_pred_test), annot=True, cmap='YlGn', fmt='d');"
   ]
  },
  {
   "cell_type": "code",
   "execution_count": 64,
   "id": "identical-disposal",
   "metadata": {},
   "outputs": [],
   "source": [
    "filename = './models/BaggingSVCModel.sav'\n",
    "pickle.dump(bg_model, open(filename, 'wb'))"
   ]
  },
  {
   "cell_type": "markdown",
   "id": "deluxe-dakota",
   "metadata": {},
   "source": [
    "## Get data for ROC Curves"
   ]
  },
  {
   "cell_type": "code",
   "execution_count": 65,
   "id": "legitimate-calculator",
   "metadata": {},
   "outputs": [],
   "source": [
    "X_train_preprocessed = preprocessor.transform(X_train)\n",
    "\n",
    "#Logistic Regression\n",
    "y_logreg_train_probs = logreg_model.predict_proba(X_train_preprocessed)[:, 1]\n",
    "y_logreg_test_probs = logreg_model.predict_proba(X_test)[:, 1]\n",
    "y_logreg_pred_train = logreg_model.predict(X_train_preprocessed)\n",
    "y_logreg_pred_test = logreg_model.predict(X_test)\n",
    "\n",
    "#KNN\n",
    "y_knn_train_probs = knn_model.predict_proba(X_train_preprocessed)[:, 1]\n",
    "y_knn_test_probs = knn_model.predict_proba(X_test)[:, 1]\n",
    "y_knn_pred_train = knn_model.predict(X_train_preprocessed)\n",
    "y_knn_pred_test = knn_model.predict(X_test)\n",
    "\n",
    "#Naive Bayes\n",
    "y_nb_train_probs = nb_model.predict_proba(X_train_preprocessed)[:, 1]\n",
    "y_nb_test_probs = nb_model.predict_proba(X_test)[:, 1]\n",
    "y_nb_pred_train = nb_model.predict(X_train_preprocessed)\n",
    "y_nb_pred_test = nb_model.predict(X_test)\n",
    "\n",
    "#Decision Tree\n",
    "y_dt_train_probs = dt_model.predict_proba(X_train_preprocessed)[:, 1]\n",
    "y_dt_test_probs = dt_model.predict_proba(X_test)[:, 1]\n",
    "y_dt_pred_train = dt_model.predict(X_train_preprocessed)\n",
    "y_dt_pred_test = dt_model.predict(X_test)\n",
    "\n",
    "#SVC\n",
    "#y_svc_train_probs = svc_model.predict_proba(X_train_preprocessed)[:, 1]\n",
    "#y_svc_test_probs = svc_model.predict_proba(X_test)[:, 1]\n",
    "y_svc_pred_train = svc_model.predict(X_train_preprocessed)\n",
    "y_svc_pred_test = svc_model.predict(X_test)\n",
    "\n",
    "#Random Forest\n",
    "y_rf_train_probs = rf_model.predict_proba(X_train_preprocessed)[:, 1]\n",
    "y_rf_test_probs = rf_model.predict_proba(X_test)[:, 1]\n",
    "y_rf_pred_train = rf_model.predict(X_train_preprocessed)\n",
    "y_rf_pred_test = rf_model.predict(X_test)\n",
    "\n",
    "#Ada Boost\n",
    "y_ab_train_probs = ab_model.predict_proba(X_train_preprocessed)[:, 1]\n",
    "y_ab_test_probs = ab_model.predict_proba(X_test)[:, 1]\n",
    "y_ab_pred_train = ab_model.predict(X_train_preprocessed)\n",
    "y_ab_pred_test = ab_model.predict(X_test)"
   ]
  },
  {
   "cell_type": "markdown",
   "id": "fewer-venice",
   "metadata": {},
   "source": [
    "ROC curves to be done later"
   ]
  },
  {
   "cell_type": "code",
   "execution_count": 66,
   "id": "indie-cyprus",
   "metadata": {},
   "outputs": [],
   "source": [
    "df_ev = pd.DataFrame(np.array([\n",
    "    [\n",
    "        sm.accuracy_score(y_test,y_logreg_pred_test),\n",
    "        sm.accuracy_score(y_test,y_knn_pred_test),\n",
    "        sm.accuracy_score(y_test,y_nb_pred_test),\n",
    "        sm.accuracy_score(y_test,y_dt_pred_test),\n",
    "        sm.accuracy_score(y_test,y_svc_pred_test),\n",
    "        sm.accuracy_score(y_test,y_rf_pred_test),\n",
    "        sm.accuracy_score(y_test,y_ab_pred_test),\n",
    "    ],\n",
    "    [\n",
    "        sm.precision_score(y_test,y_logreg_pred_test),\n",
    "        sm.precision_score(y_test,y_knn_pred_test),\n",
    "        sm.precision_score(y_test,y_nb_pred_test),\n",
    "        sm.precision_score(y_test,y_dt_pred_test),\n",
    "        sm.precision_score(y_test,y_svc_pred_test),\n",
    "        sm.precision_score(y_test,y_rf_pred_test),\n",
    "        sm.precision_score(y_test,y_ab_pred_test),\n",
    "    ],\n",
    "    [\n",
    "        sm.recall_score(y_test,y_logreg_pred_test),\n",
    "        sm.recall_score(y_test,y_knn_pred_test),\n",
    "        sm.recall_score(y_test,y_nb_pred_test),\n",
    "        sm.recall_score(y_test,y_dt_pred_test),\n",
    "        sm.recall_score(y_test,y_svc_pred_test),\n",
    "        sm.recall_score(y_test,y_rf_pred_test),\n",
    "        sm.recall_score(y_test,y_ab_pred_test),\n",
    "    ],\n",
    "    [\n",
    "        sm.f1_score(y_test,y_logreg_pred_test),\n",
    "        sm.f1_score(y_test,y_knn_pred_test),\n",
    "        sm.f1_score(y_test,y_nb_pred_test),\n",
    "        sm.f1_score(y_test,y_dt_pred_test),\n",
    "        sm.f1_score(y_test,y_svc_pred_test),\n",
    "        sm.f1_score(y_test,y_rf_pred_test),\n",
    "        sm.f1_score(y_test,y_ab_pred_test),\n",
    "    ],\n",
    "    ]),#.reshape(7,4),\n",
    "    index=[\"Accuracy\",\"Precision\",\"Recall\",\"F1\"],\n",
    "    columns=[\"logreg\",\"knn\",\"nb\",\"dt\",\"svc\",\"rf\",\"ab\"]\n",
    ")\n",
    "#df_ev = round(df_ev,2)"
   ]
  },
  {
   "cell_type": "code",
   "execution_count": 67,
   "id": "alternate-entry",
   "metadata": {},
   "outputs": [],
   "source": [
    "#df_ev = df_ev.transpose()"
   ]
  },
  {
   "cell_type": "code",
   "execution_count": 68,
   "id": "announced-florence",
   "metadata": {},
   "outputs": [
    {
     "data": {
      "text/plain": [
       "<AxesSubplot:>"
      ]
     },
     "execution_count": 68,
     "metadata": {},
     "output_type": "execute_result"
    },
    {
     "data": {
      "image/png": "[encoded data removed]",
      "text/plain": [
       "<Figure size 648x432 with 2 Axes>"
      ]
     },
     "metadata": {},
     "output_type": "display_data"
    }
   ],
   "source": [
    "sns.set_theme()\n",
    "\n",
    "f, ax = plt.subplots(figsize=(9, 6))\n",
    "sns.heatmap(df_ev.transpose(), annot=True, fmt=\".2f\", linewidths=.5, ax= ax)"
   ]
  },
  {
   "cell_type": "markdown",
   "id": "specific-incentive",
   "metadata": {},
   "source": [
    "# Testing"
   ]
  },
  {
   "cell_type": "code",
   "execution_count": null,
   "id": "frozen-arkansas",
   "metadata": {},
   "outputs": [],
   "source": [
    "\n"
   ]
  },
  {
   "cell_type": "code",
   "execution_count": 69,
   "id": "alive-walker",
   "metadata": {},
   "outputs": [],
   "source": [
    "#from sklearn.datasets import load_iris\n",
    "#from sklearn.ensemble import RandomForestClassifier\n",
    "#from sklearn.svm import LinearSVC\n",
    "#from sklearn.linear_model import LogisticRegression\n",
    "#from sklearn.preprocessing import StandardScaler\n",
    "#from sklearn.pipeline import make_pipeline\n",
    "#from sklearn.ensemble import StackingClassifier\n",
    "#\n",
    "#\n",
    "#\n",
    "#X, y = load_iris(return_X_y=True)\n",
    "#estimators = [\n",
    "#    ('rf', RandomForestClassifier(n_estimators=10, random_state=42)),\n",
    "#    ('svr', make_pipeline(StandardScaler(),LinearSVC(random_state=42)))\n",
    "#    ]\n",
    "#\n",
    "#clf = StackingClassifier(estimators=estimators, final_estimator=LogisticRegression())\n",
    "#\n",
    "#from sklearn.model_selection import train_test_split\n",
    "#\n",
    "#X_train, X_test, y_train, y_test = train_test_split(X, y, stratify=y, random_state=42)\n",
    "#clf.fit(X_train, y_train).score(X_test, y_test)\n"
   ]
  }
 ],
 "metadata": {
  "kernelspec": {
   "display_name": "Python 3",
   "language": "python",
   "name": "python3"
  },
  "language_info": {
   "codemirror_mode": {
    "name": "ipython",
    "version": 3
   },
   "file_extension": ".py",
   "mimetype": "text/x-python",
   "name": "python",
   "nbconvert_exporter": "python",
   "pygments_lexer": "ipython3",
   "version": "3.8.5"
  }
 },
 "nbformat": 4,
 "nbformat_minor": 5
}
