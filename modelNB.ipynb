{
 "cells": [
  {
   "cell_type": "code",
   "execution_count": 1,
   "id": "forced-bishop",
   "metadata": {},
   "outputs": [],
   "source": [
    "# Import of relevant packages\n",
    "import numpy as np\n",
    "import pandas as pd\n",
    "import matplotlib.pyplot as plt\n",
    "import seaborn as sns\n",
    "\n",
    "from sklearn.pipeline import Pipeline\n",
    "from sklearn.compose import ColumnTransformer\n",
    "from sklearn.preprocessing import OneHotEncoder, StandardScaler\n",
    "from sklearn.impute import SimpleImputer\n",
    "from sklearn.model_selection import train_test_split\n",
    "from sklearn.model_selection import GridSearchCV, RandomizedSearchCV\n",
    "from sklearn.model_selection import cross_val_predict, cross_val_score, cross_validate\n",
    "from sklearn.metrics import roc_curve, confusion_matrix, accuracy_score, recall_score, precision_score\n",
    "from sklearn import preprocessing\n",
    "import sklearn.metrics as sm\n",
    "from sklearn.neighbors import KNeighborsClassifier\n",
    "from sklearn.tree import DecisionTreeClassifier\n",
    "from sklearn.naive_bayes import BernoulliNB\n",
    "from sklearn.svm import SVC\n",
    "from sklearn.ensemble import RandomForestClassifier\n",
    "from sklearn.ensemble import AdaBoostClassifier\n",
    "from sklearn.ensemble import StackingClassifier\n",
    "from sklearn import tree\n",
    "import pickle\n",
    "\n",
    "from sklearn.linear_model import LogisticRegression\n",
    "\n",
    "RSEED = 42"
   ]
  },
  {
   "cell_type": "markdown",
   "id": "sixth-qatar",
   "metadata": {},
   "source": [
    "# Preprocessing"
   ]
  },
  {
   "cell_type": "markdown",
   "id": "shaped-hunger",
   "metadata": {},
   "source": [
    "## Functions"
   ]
  },
  {
   "cell_type": "code",
   "execution_count": 74,
   "id": "settled-combat",
   "metadata": {},
   "outputs": [],
   "source": [
    "def dropCols(df):\n",
    "    drop_cols = [\n",
    "        'blurb',\n",
    "        'creator',\n",
    "        'currency',\n",
    "        'currency_trailing_code',\n",
    "        'fx_rate',\n",
    "        'location',\n",
    "        'name',\n",
    "        'profile',\n",
    "        'slug',\n",
    "        'source_url',\n",
    "        'static_usd_rate',\n",
    "        'usd_type',\n",
    "        \"country\",\n",
    "        \"is_starrable\",\n",
    "        'converted_pledged_amount',\n",
    "        'pledged',\n",
    "        'category_slug',\n",
    "        'disable_communication',\n",
    "        'usd_pledged',\n",
    "        \"backers_count\",\n",
    "        \"staff_pick\",\n",
    "    ]\n",
    "    df.drop(drop_cols, inplace=True, axis = 1)\n",
    "    for c in df.columns: \n",
    "        if df[c].dtype == \"object\": \n",
    "            df[c] = df[c].astype(\"category\") \n",
    "    df.dropna(inplace=True)\n",
    "    return df\n",
    "\n",
    "def toDay(time_delta):\n",
    "    return round(time_delta/3600/24,2)\n",
    "\n",
    "def dateTimeUpdate(df):\n",
    "    campaign_length = df.deadline - df.created_at\n",
    "    campaign_length = campaign_length.apply(toDay)\n",
    "    campaign_length.name = \"campaign_length\"\n",
    "    \n",
    "    time_until_launch = df.launched_at - df.created_at\n",
    "    time_until_launch = time_until_launch.apply(toDay)\n",
    "    time_until_launch.name = \"time_until_launch\"\n",
    "    \n",
    "    time_launch2state = df.state_changed_at - df.launched_at\n",
    "    time_launch2state = time_launch2state.apply(toDay)\n",
    "    time_launch2state.name = \"time_launch2state\"\n",
    "    \n",
    "    time_state2deadline = df.deadline - df.state_changed_at\n",
    "    time_state2deadline = time_state2deadline.apply(toDay)\n",
    "    time_state2deadline.name = \"time_state2deadline\"\n",
    "    \n",
    "    time_launch2deadline = df.deadline - df.launched_at\n",
    "    time_launch2deadline = time_launch2deadline.apply(toDay)\n",
    "    time_launch2deadline.name = \"time_launch2deadline\"\n",
    "    \n",
    "    df = pd.concat([df, \n",
    "                    campaign_length,\n",
    "                    time_until_launch, \n",
    "                    #time_launch2state,\n",
    "                    #time_state2deadline,\n",
    "                    #time_launch2deadline\n",
    "                   ],\n",
    "                  axis = 1\n",
    "                  )\n",
    "    df.drop([\n",
    "        \"created_at\",\n",
    "        \"deadline\",\n",
    "        \"launched_at\",\n",
    "        \"state_changed_at\",\n",
    "            ],\n",
    "        axis =1,\n",
    "        inplace=True\n",
    "    )\n",
    "    return df\n"
   ]
  },
  {
   "cell_type": "markdown",
   "id": "coordinated-coalition",
   "metadata": {},
   "source": [
    "## Load data, drop unnecessary columns"
   ]
  },
  {
   "cell_type": "code",
   "execution_count": 3,
   "id": "nutritional-reward",
   "metadata": {},
   "outputs": [
    {
     "data": {
      "text/html": [
       "<div>\n",
       "<style scoped>\n",
       "    .dataframe tbody tr th:only-of-type {\n",
       "        vertical-align: middle;\n",
       "    }\n",
       "\n",
       "    .dataframe tbody tr th {\n",
       "        vertical-align: top;\n",
       "    }\n",
       "\n",
       "    .dataframe thead th {\n",
       "        text-align: right;\n",
       "    }\n",
       "</style>\n",
       "<table border=\"1\" class=\"dataframe\">\n",
       "  <thead>\n",
       "    <tr style=\"text-align: right;\">\n",
       "      <th></th>\n",
       "      <th>goal</th>\n",
       "      <th>state</th>\n",
       "      <th>category_name</th>\n",
       "      <th>cgrouped</th>\n",
       "      <th>campaign_length</th>\n",
       "      <th>time_until_launch</th>\n",
       "      <th>time_state2deadline</th>\n",
       "    </tr>\n",
       "  </thead>\n",
       "  <tbody>\n",
       "    <tr>\n",
       "      <th>0</th>\n",
       "      <td>5000.0</td>\n",
       "      <td>failed</td>\n",
       "      <td>Woodworking</td>\n",
       "      <td>Other</td>\n",
       "      <td>24.36</td>\n",
       "      <td>1.36</td>\n",
       "      <td>0.00</td>\n",
       "    </tr>\n",
       "    <tr>\n",
       "      <th>1</th>\n",
       "      <td>30000.0</td>\n",
       "      <td>successful</td>\n",
       "      <td>Video Games</td>\n",
       "      <td>US</td>\n",
       "      <td>304.63</td>\n",
       "      <td>274.58</td>\n",
       "      <td>0.00</td>\n",
       "    </tr>\n",
       "    <tr>\n",
       "      <th>2</th>\n",
       "      <td>100000.0</td>\n",
       "      <td>successful</td>\n",
       "      <td>Wearables</td>\n",
       "      <td>US</td>\n",
       "      <td>76.31</td>\n",
       "      <td>40.52</td>\n",
       "      <td>-0.00</td>\n",
       "    </tr>\n",
       "    <tr>\n",
       "      <th>3</th>\n",
       "      <td>6500.0</td>\n",
       "      <td>successful</td>\n",
       "      <td>Indie Rock</td>\n",
       "      <td>US</td>\n",
       "      <td>74.59</td>\n",
       "      <td>41.10</td>\n",
       "      <td>-0.00</td>\n",
       "    </tr>\n",
       "    <tr>\n",
       "      <th>4</th>\n",
       "      <td>20000.0</td>\n",
       "      <td>canceled</td>\n",
       "      <td>Farms</td>\n",
       "      <td>US</td>\n",
       "      <td>757.56</td>\n",
       "      <td>727.56</td>\n",
       "      <td>11.85</td>\n",
       "    </tr>\n",
       "    <tr>\n",
       "      <th>...</th>\n",
       "      <td>...</td>\n",
       "      <td>...</td>\n",
       "      <td>...</td>\n",
       "      <td>...</td>\n",
       "      <td>...</td>\n",
       "      <td>...</td>\n",
       "      <td>...</td>\n",
       "    </tr>\n",
       "    <tr>\n",
       "      <th>163613</th>\n",
       "      <td>2500.0</td>\n",
       "      <td>successful</td>\n",
       "      <td>Hardware</td>\n",
       "      <td>GB</td>\n",
       "      <td>45.32</td>\n",
       "      <td>15.32</td>\n",
       "      <td>0.00</td>\n",
       "    </tr>\n",
       "    <tr>\n",
       "      <th>163614</th>\n",
       "      <td>20000.0</td>\n",
       "      <td>failed</td>\n",
       "      <td>Nature</td>\n",
       "      <td>US</td>\n",
       "      <td>31.05</td>\n",
       "      <td>0.06</td>\n",
       "      <td>0.00</td>\n",
       "    </tr>\n",
       "    <tr>\n",
       "      <th>163615</th>\n",
       "      <td>6000.0</td>\n",
       "      <td>failed</td>\n",
       "      <td>Gadgets</td>\n",
       "      <td>US</td>\n",
       "      <td>106.39</td>\n",
       "      <td>73.41</td>\n",
       "      <td>-0.00</td>\n",
       "    </tr>\n",
       "    <tr>\n",
       "      <th>163616</th>\n",
       "      <td>1000.0</td>\n",
       "      <td>failed</td>\n",
       "      <td>Radio &amp; Podcasts</td>\n",
       "      <td>US</td>\n",
       "      <td>32.57</td>\n",
       "      <td>2.57</td>\n",
       "      <td>0.00</td>\n",
       "    </tr>\n",
       "    <tr>\n",
       "      <th>163617</th>\n",
       "      <td>1250.0</td>\n",
       "      <td>successful</td>\n",
       "      <td>Festivals</td>\n",
       "      <td>GB</td>\n",
       "      <td>84.21</td>\n",
       "      <td>55.18</td>\n",
       "      <td>-0.00</td>\n",
       "    </tr>\n",
       "  </tbody>\n",
       "</table>\n",
       "<p>163618 rows × 7 columns</p>\n",
       "</div>"
      ],
      "text/plain": [
       "            goal       state     category_name cgrouped  campaign_length  \\\n",
       "0         5000.0      failed       Woodworking    Other            24.36   \n",
       "1        30000.0  successful       Video Games       US           304.63   \n",
       "2       100000.0  successful         Wearables       US            76.31   \n",
       "3         6500.0  successful        Indie Rock       US            74.59   \n",
       "4        20000.0    canceled             Farms       US           757.56   \n",
       "...          ...         ...               ...      ...              ...   \n",
       "163613    2500.0  successful          Hardware       GB            45.32   \n",
       "163614   20000.0      failed            Nature       US            31.05   \n",
       "163615    6000.0      failed           Gadgets       US           106.39   \n",
       "163616    1000.0      failed  Radio & Podcasts       US            32.57   \n",
       "163617    1250.0  successful         Festivals       GB            84.21   \n",
       "\n",
       "        time_until_launch  time_state2deadline  \n",
       "0                    1.36                 0.00  \n",
       "1                  274.58                 0.00  \n",
       "2                   40.52                -0.00  \n",
       "3                   41.10                -0.00  \n",
       "4                  727.56                11.85  \n",
       "...                   ...                  ...  \n",
       "163613              15.32                 0.00  \n",
       "163614               0.06                 0.00  \n",
       "163615              73.41                -0.00  \n",
       "163616               2.57                 0.00  \n",
       "163617              55.18                -0.00  \n",
       "\n",
       "[163618 rows x 7 columns]"
      ]
     },
     "execution_count": 3,
     "metadata": {},
     "output_type": "execute_result"
    }
   ],
   "source": [
    "df = pd.read_csv('data/df_clean.csv')\n",
    "df = dropCols(df)\n",
    "df = dateTimeUpdate(df)\n",
    "df.drop(df.columns[df.columns.str.contains('unnamed',case = False)],axis = 1, inplace = True)\n",
    "df.head()\n",
    "#df.goal = np.log10(df.goal)\n",
    "df"
   ]
  },
  {
   "cell_type": "code",
   "execution_count": 4,
   "id": "boxed-hobby",
   "metadata": {},
   "outputs": [
    {
     "data": {
      "text/html": [
       "<div>\n",
       "<style scoped>\n",
       "    .dataframe tbody tr th:only-of-type {\n",
       "        vertical-align: middle;\n",
       "    }\n",
       "\n",
       "    .dataframe tbody tr th {\n",
       "        vertical-align: top;\n",
       "    }\n",
       "\n",
       "    .dataframe thead th {\n",
       "        text-align: right;\n",
       "    }\n",
       "</style>\n",
       "<table border=\"1\" class=\"dataframe\">\n",
       "  <thead>\n",
       "    <tr style=\"text-align: right;\">\n",
       "      <th></th>\n",
       "      <th>goal</th>\n",
       "      <th>campaign_length</th>\n",
       "      <th>time_until_launch</th>\n",
       "      <th>time_state2deadline</th>\n",
       "    </tr>\n",
       "  </thead>\n",
       "  <tbody>\n",
       "    <tr>\n",
       "      <th>count</th>\n",
       "      <td>1.636180e+05</td>\n",
       "      <td>163618.000000</td>\n",
       "      <td>163618.000000</td>\n",
       "      <td>163618.000000</td>\n",
       "    </tr>\n",
       "    <tr>\n",
       "      <th>mean</th>\n",
       "      <td>5.327383e+04</td>\n",
       "      <td>79.451036</td>\n",
       "      <td>46.566058</td>\n",
       "      <td>1.881082</td>\n",
       "    </tr>\n",
       "    <tr>\n",
       "      <th>std</th>\n",
       "      <td>1.247722e+06</td>\n",
       "      <td>129.162995</td>\n",
       "      <td>128.331440</td>\n",
       "      <td>8.084102</td>\n",
       "    </tr>\n",
       "    <tr>\n",
       "      <th>min</th>\n",
       "      <td>1.000000e-02</td>\n",
       "      <td>1.020000</td>\n",
       "      <td>0.000000</td>\n",
       "      <td>-48.040000</td>\n",
       "    </tr>\n",
       "    <tr>\n",
       "      <th>25%</th>\n",
       "      <td>1.500000e+03</td>\n",
       "      <td>32.960000</td>\n",
       "      <td>2.790000</td>\n",
       "      <td>0.000000</td>\n",
       "    </tr>\n",
       "    <tr>\n",
       "      <th>50%</th>\n",
       "      <td>5.000000e+03</td>\n",
       "      <td>46.580000</td>\n",
       "      <td>10.695000</td>\n",
       "      <td>0.000000</td>\n",
       "    </tr>\n",
       "    <tr>\n",
       "      <th>75%</th>\n",
       "      <td>1.500000e+04</td>\n",
       "      <td>71.980000</td>\n",
       "      <td>35.510000</td>\n",
       "      <td>0.000000</td>\n",
       "    </tr>\n",
       "    <tr>\n",
       "      <th>max</th>\n",
       "      <td>1.000000e+08</td>\n",
       "      <td>3333.570000</td>\n",
       "      <td>3303.570000</td>\n",
       "      <td>88.190000</td>\n",
       "    </tr>\n",
       "  </tbody>\n",
       "</table>\n",
       "</div>"
      ],
      "text/plain": [
       "               goal  campaign_length  time_until_launch  time_state2deadline\n",
       "count  1.636180e+05    163618.000000      163618.000000        163618.000000\n",
       "mean   5.327383e+04        79.451036          46.566058             1.881082\n",
       "std    1.247722e+06       129.162995         128.331440             8.084102\n",
       "min    1.000000e-02         1.020000           0.000000           -48.040000\n",
       "25%    1.500000e+03        32.960000           2.790000             0.000000\n",
       "50%    5.000000e+03        46.580000          10.695000             0.000000\n",
       "75%    1.500000e+04        71.980000          35.510000             0.000000\n",
       "max    1.000000e+08      3333.570000        3303.570000            88.190000"
      ]
     },
     "execution_count": 4,
     "metadata": {},
     "output_type": "execute_result"
    }
   ],
   "source": [
    "#df.describe()"
   ]
  },
  {
   "cell_type": "code",
   "execution_count": 5,
   "id": "stone-pickup",
   "metadata": {},
   "outputs": [
    {
     "data": {
      "text/plain": [
       "<AxesSubplot:xlabel='time_state2deadline', ylabel='goal'>"
      ]
     },
     "execution_count": 5,
     "metadata": {},
     "output_type": "execute_result"
    },
    {
     "data": {
      "image/png": "[encoded data removed]",
      "text/plain": [
       "<Figure size 432x288 with 1 Axes>"
      ]
     },
     "metadata": {
      "needs_background": "light"
     },
     "output_type": "display_data"
    }
   ],
   "source": [
    "#sns.scatterplot(data = df, x= \"time_state2deadline\",y=\"goal\" )\n",
    "#plt.xscale(\"log\")"
   ]
  },
  {
   "cell_type": "markdown",
   "id": "intensive-bangladesh",
   "metadata": {},
   "source": [
    "## Define categorical and numerical columns"
   ]
  },
  {
   "cell_type": "code",
   "execution_count": 6,
   "id": "friendly-iraqi",
   "metadata": {},
   "outputs": [
    {
     "data": {
      "text/plain": [
       "['category_name', 'cgrouped']"
      ]
     },
     "execution_count": 6,
     "metadata": {},
     "output_type": "execute_result"
    }
   ],
   "source": [
    "cat_features = list(df.columns[df.dtypes=='category'])\n",
    "cat_features.remove('state')\n",
    "cat_features"
   ]
  },
  {
   "cell_type": "code",
   "execution_count": 7,
   "id": "optical-canada",
   "metadata": {},
   "outputs": [
    {
     "data": {
      "text/plain": [
       "['goal', 'campaign_length', 'time_until_launch', 'time_state2deadline']"
      ]
     },
     "execution_count": 7,
     "metadata": {},
     "output_type": "execute_result"
    }
   ],
   "source": [
    "num_features = list(df.columns[df.dtypes!='category'])\n",
    "num_features"
   ]
  },
  {
   "cell_type": "markdown",
   "id": "brilliant-shelter",
   "metadata": {},
   "source": [
    "## Define training data\n",
    "\n",
    "Targets will only be \"failed\" and \"successful\" because, only these are purely market driven classes and therefore can be best related to the features. To predict for example \"cancelled\" more insights into the founders' business would be necessary."
   ]
  },
  {
   "cell_type": "code",
   "execution_count": 8,
   "id": "national-literature",
   "metadata": {},
   "outputs": [
    {
     "name": "stdout",
     "output_type": "stream",
     "text": [
      "fearture Rows: 151867 \n",
      "feature columns: 6\n",
      "target rows: 151867\n"
     ]
    }
   ],
   "source": [
    "X = df[(df['state']=='failed') | (df['state']=='successful')].drop(\"state\", axis=1)\n",
    "y = df[(df['state']=='failed') | (df['state']=='successful')][\"state\"]\n",
    "print(f\"fearture Rows: {X.shape[0]} \\nfeature columns: {X.shape[1]}\")\n",
    "print(f\"target rows: {y.shape[0]}\")"
   ]
  },
  {
   "cell_type": "code",
   "execution_count": 9,
   "id": "right-statement",
   "metadata": {},
   "outputs": [
    {
     "name": "stdout",
     "output_type": "stream",
     "text": [
      "before: \n",
      "['failed' 'successful' 'successful' 'successful' 'successful' 'successful'\n",
      " 'successful' 'successful' 'successful' 'failed']\n",
      "--------------------------------------------------\n",
      "after: \n",
      "[0 1 1 1 1 1 1 1 1 0]\n"
     ]
    }
   ],
   "source": [
    "label_encoder = preprocessing.LabelEncoder()\n",
    "label_encoder.fit([\"failed\",\"successful\"])\n",
    "print(\"before: \\n{}\".format(np.array(y[:10])))\n",
    "y = label_encoder.transform(y)\n",
    "print(\"-----\"*10)\n",
    "print(\"after: \\n{}\".format(y[:10]))"
   ]
  },
  {
   "cell_type": "markdown",
   "id": "material-senator",
   "metadata": {},
   "source": [
    "## Split the training data"
   ]
  },
  {
   "cell_type": "code",
   "execution_count": 10,
   "id": "coordinated-pendant",
   "metadata": {},
   "outputs": [],
   "source": [
    "X_train, X_test, y_train, y_test = train_test_split(X, y, test_size=0.2,stratify=y, random_state=RSEED)\n",
    "X_train, X_train_alt, y_train, y_train_alt = train_test_split(X_train, y_train, train_size=0.1,stratify=y_train, random_state=RSEED)"
   ]
  },
  {
   "cell_type": "markdown",
   "id": "covered-piano",
   "metadata": {},
   "source": [
    "## Setup the preprocessing pipeline"
   ]
  },
  {
   "cell_type": "code",
   "execution_count": 11,
   "id": "threatened-dairy",
   "metadata": {},
   "outputs": [],
   "source": [
    "# Pipeline for numerical features \n",
    "num_pipeline = Pipeline([\n",
    "    ('imputer_num', SimpleImputer(strategy='median')),\n",
    "    ('std_scaler', StandardScaler())\n",
    "])\n",
    "# Pipeline for categorical features\n",
    "cat_pipeline = Pipeline([\n",
    "    ('imputer_cat', SimpleImputer(strategy='constant', fill_value='missing')),\n",
    "    ('1hot', OneHotEncoder(handle_unknown='ignore'))\n",
    "])"
   ]
  },
  {
   "cell_type": "code",
   "execution_count": 12,
   "id": "pacific-breakdown",
   "metadata": {},
   "outputs": [],
   "source": [
    "# Complete pipeline for numerical and categorical features\n",
    "preprocessor = ColumnTransformer([\n",
    "    ('num', num_pipeline, num_features),\n",
    "    ('cat', cat_pipeline, cat_features)\n",
    "])\n",
    "\n",
    "#preprocess validationData\n",
    "preprocessor.fit(X_train)\n",
    "X_test = preprocessor.transform(X_test)\n",
    "\n",
    "#extract feature names\n",
    "cat_cols= preprocessor.transformers_[1][1].named_steps[\"1hot\"].get_feature_names(cat_features)\n",
    "features = list(num_features) + list(cat_cols)"
   ]
  },
  {
   "cell_type": "markdown",
   "id": "mobile-reviewer",
   "metadata": {},
   "source": [
    "# Logistic Regression"
   ]
  },
  {
   "cell_type": "code",
   "execution_count": 76,
   "id": "overall-flexibility",
   "metadata": {},
   "outputs": [],
   "source": [
    "# LogisticRegression Classifier\n",
    "pipe_logreg = Pipeline([\n",
    "    ('preprocessor', preprocessor),\n",
    "    ('logreg', LogisticRegression())\n",
    "])\n",
    "\n",
    "#Grid search Parameters\n",
    "param_logreg = {\"logreg__penalty\":['l2',\"elasticnet\",\"l1\"],\n",
    "                \"logreg__dual\":[False],\n",
    "                \"logreg__tol\":[0.01, 0.1, 1, 10],\n",
    "                \"logreg__C\":[0.1, 1.0, 10, 100],\n",
    "                \"logreg__fit_intercept\":[True],\n",
    "                \"logreg__intercept_scaling\":[1],\n",
    "                \"logreg__class_weight\":[None],\n",
    "                \"logreg__random_state\":[RSEED],\n",
    "                \"logreg__solver\":['lbfgs'],\n",
    "                \"logreg__max_iter\":[100,1000,10000],\n",
    "                \"logreg__multi_class\":['auto'],\n",
    "                \"logreg__verbose\":[0],\n",
    "                \"logreg__warm_start\":[False],\n",
    "                \"logreg__n_jobs\":[None],\n",
    "                \"logreg__l1_ratio\":[None],\n",
    "               }\n",
    "\n",
    "grid_logreg = GridSearchCV(pipe_logreg,\n",
    "                           param_grid=param_logreg,\n",
    "                           cv=5, \n",
    "                           scoring='precision',\n",
    "                           verbose=5, \n",
    "                           n_jobs=-1)"
   ]
  },
  {
   "cell_type": "code",
   "execution_count": 14,
   "id": "liked-terrain",
   "metadata": {},
   "outputs": [
    {
     "name": "stdout",
     "output_type": "stream",
     "text": [
      "Fitting 5 folds for each of 6 candidates, totalling 30 fits\n"
     ]
    }
   ],
   "source": [
    "grid_logreg.fit(X_train, y_train);"
   ]
  },
  {
   "cell_type": "code",
   "execution_count": 15,
   "id": "solved-estimate",
   "metadata": {},
   "outputs": [],
   "source": [
    "grid_logreg.best_params_;"
   ]
  },
  {
   "cell_type": "code",
   "execution_count": 16,
   "id": "jewish-shore",
   "metadata": {},
   "outputs": [
    {
     "name": "stdout",
     "output_type": "stream",
     "text": [
      "              precision    recall  f1-score   support\n",
      "\n",
      "           0       0.69      0.77      0.73     13348\n",
      "           1       0.80      0.73      0.77     17026\n",
      "\n",
      "    accuracy                           0.75     30374\n",
      "   macro avg       0.75      0.75      0.75     30374\n",
      "weighted avg       0.75      0.75      0.75     30374\n",
      "\n"
     ]
    }
   ],
   "source": [
    "logreg_model = grid_logreg.best_estimator_['logreg']\n",
    "y_log_pred_test = logreg_model.predict(X_test)\n",
    "print(sm.classification_report(y_test, y_log_pred_test))"
   ]
  },
  {
   "cell_type": "code",
   "execution_count": 17,
   "id": "guilty-accreditation",
   "metadata": {},
   "outputs": [
    {
     "data": {
      "image/png": "[encoded data removed]",
      "text/plain": [
       "<Figure size 432x288 with 2 Axes>"
      ]
     },
     "metadata": {
      "needs_background": "light"
     },
     "output_type": "display_data"
    }
   ],
   "source": [
    "# Print confusion matrix\n",
    "sns.heatmap(confusion_matrix(y_test, y_log_pred_test), annot=True, cmap='YlGn', fmt='d');"
   ]
  },
  {
   "cell_type": "code",
   "execution_count": 18,
   "id": "encouraging-tourism",
   "metadata": {},
   "outputs": [],
   "source": [
    "filename = './models/LogRegModel.sav'\n",
    "pickle.dump(logreg_model, open(filename, 'wb'))"
   ]
  },
  {
   "cell_type": "markdown",
   "id": "present-incident",
   "metadata": {},
   "source": [
    "# KNN"
   ]
  },
  {
   "cell_type": "code",
   "execution_count": 77,
   "id": "stupid-synthesis",
   "metadata": {},
   "outputs": [],
   "source": [
    "pipe_knn = Pipeline([\n",
    "    ('preprocessor', preprocessor),\n",
    "    ('knn', KNeighborsClassifier())\n",
    "])\n",
    "\n",
    "#Grid search Parameters\n",
    "param_knn = {\n",
    "            \"knn__n_neighbors\":[5,20,50],\n",
    "            \"knn__weights\":['uniform',\"distance\"],\n",
    "            \"knn__algorithm\":['auto'],\n",
    "            \"knn__leaf_size\":[30],\n",
    "            \"knn__p\":[2,1,100],\n",
    "            \"knn__metric\":['minkowski'],\n",
    "            \"knn__metric_params\":[None],\n",
    "            \"knn__n_jobs\":[None],\n",
    "               }\n",
    "\n",
    "grid_knn = GridSearchCV(pipe_knn,\n",
    "                           param_grid=param_knn,\n",
    "                           cv=5, \n",
    "                           scoring='precision',\n",
    "                           verbose=5, \n",
    "                           n_jobs=-1)"
   ]
  },
  {
   "cell_type": "code",
   "execution_count": 20,
   "id": "diagnostic-gabriel",
   "metadata": {},
   "outputs": [
    {
     "name": "stdout",
     "output_type": "stream",
     "text": [
      "Fitting 5 folds for each of 6 candidates, totalling 30 fits\n"
     ]
    }
   ],
   "source": [
    "grid_knn.fit(X_train, y_train);"
   ]
  },
  {
   "cell_type": "code",
   "execution_count": 21,
   "id": "indoor-spotlight",
   "metadata": {},
   "outputs": [
    {
     "data": {
      "text/plain": [
       "{'knn__algorithm': 'auto',\n",
       " 'knn__leaf_size': 30,\n",
       " 'knn__metric': 'minkowski',\n",
       " 'knn__metric_params': None,\n",
       " 'knn__n_jobs': None,\n",
       " 'knn__n_neighbors': 20,\n",
       " 'knn__p': 2,\n",
       " 'knn__weights': 'uniform'}"
      ]
     },
     "execution_count": 21,
     "metadata": {},
     "output_type": "execute_result"
    }
   ],
   "source": [
    "grid_knn.best_params_"
   ]
  },
  {
   "cell_type": "code",
   "execution_count": 22,
   "id": "brutal-access",
   "metadata": {},
   "outputs": [
    {
     "name": "stdout",
     "output_type": "stream",
     "text": [
      "              precision    recall  f1-score   support\n",
      "\n",
      "           0       0.68      0.73      0.70     13348\n",
      "           1       0.77      0.73      0.75     17026\n",
      "\n",
      "    accuracy                           0.73     30374\n",
      "   macro avg       0.73      0.73      0.73     30374\n",
      "weighted avg       0.73      0.73      0.73     30374\n",
      "\n"
     ]
    }
   ],
   "source": [
    "knn_model = grid_knn.best_estimator_['knn']\n",
    "y_knn_pred_test = knn_model.predict(X_test)\n",
    "print(sm.classification_report(y_test, y_knn_pred_test))"
   ]
  },
  {
   "cell_type": "code",
   "execution_count": 23,
   "id": "graphic-matthew",
   "metadata": {},
   "outputs": [
    {
     "data": {
      "image/png": "[encoded data removed]",
      "text/plain": [
       "<Figure size 432x288 with 2 Axes>"
      ]
     },
     "metadata": {
      "needs_background": "light"
     },
     "output_type": "display_data"
    }
   ],
   "source": [
    "sns.heatmap(confusion_matrix(y_test, y_knn_pred_test), annot=True, cmap='YlGn', fmt='d');"
   ]
  },
  {
   "cell_type": "code",
   "execution_count": 24,
   "id": "instant-investing",
   "metadata": {},
   "outputs": [],
   "source": [
    "filename = './models/KNNModel.sav'\n",
    "pickle.dump(knn_model, open(filename, 'wb'))"
   ]
  },
  {
   "cell_type": "markdown",
   "id": "saving-balance",
   "metadata": {},
   "source": [
    "# Naive Bayes"
   ]
  },
  {
   "cell_type": "code",
   "execution_count": 25,
   "id": "hidden-cartoon",
   "metadata": {},
   "outputs": [],
   "source": [
    "pipe_nb = Pipeline([\n",
    "    ('preprocessor', preprocessor),\n",
    "    ('nb', BernoulliNB())\n",
    "])\n",
    "\n",
    "#Grid search Parameters\n",
    "param_nb = {'nb__alpha': [1,3,10,30],\n",
    "            \"nb__binarize\" : [0.0],\n",
    "            \"nb__fit_prior\":[True],\n",
    "            \"nb__class_prior\":[None]\n",
    "            }\n",
    "\n",
    "\n",
    "grid_nb = GridSearchCV(pipe_nb,\n",
    "                           param_grid=param_nb,\n",
    "                           cv=5, \n",
    "                           scoring='precision',\n",
    "                           verbose=5, \n",
    "                           n_jobs=-1)"
   ]
  },
  {
   "cell_type": "code",
   "execution_count": 26,
   "id": "average-handling",
   "metadata": {},
   "outputs": [
    {
     "name": "stdout",
     "output_type": "stream",
     "text": [
      "Fitting 5 folds for each of 3 candidates, totalling 15 fits\n"
     ]
    }
   ],
   "source": [
    "grid_nb.fit(X_train, y_train);"
   ]
  },
  {
   "cell_type": "code",
   "execution_count": 27,
   "id": "wrapped-blues",
   "metadata": {},
   "outputs": [
    {
     "data": {
      "text/plain": [
       "{'nb__alpha': 1,\n",
       " 'nb__binarize': 0.0,\n",
       " 'nb__class_prior': None,\n",
       " 'nb__fit_prior': True}"
      ]
     },
     "execution_count": 27,
     "metadata": {},
     "output_type": "execute_result"
    }
   ],
   "source": [
    "grid_nb.best_params_"
   ]
  },
  {
   "cell_type": "code",
   "execution_count": 28,
   "id": "hourly-storage",
   "metadata": {},
   "outputs": [
    {
     "name": "stdout",
     "output_type": "stream",
     "text": [
      "              precision    recall  f1-score   support\n",
      "\n",
      "           0       0.68      0.77      0.72     13348\n",
      "           1       0.80      0.72      0.76     17026\n",
      "\n",
      "    accuracy                           0.74     30374\n",
      "   macro avg       0.74      0.74      0.74     30374\n",
      "weighted avg       0.75      0.74      0.74     30374\n",
      "\n"
     ]
    }
   ],
   "source": [
    "nb_model = grid_nb.best_estimator_['nb']\n",
    "y_nb_pred_test = nb_model.predict(X_test)\n",
    "print(sm.classification_report(y_test, y_nb_pred_test))"
   ]
  },
  {
   "cell_type": "code",
   "execution_count": 29,
   "id": "chief-integrity",
   "metadata": {},
   "outputs": [
    {
     "data": {
      "image/png": "[encoded data removed]",
      "text/plain": [
       "<Figure size 432x288 with 2 Axes>"
      ]
     },
     "metadata": {
      "needs_background": "light"
     },
     "output_type": "display_data"
    }
   ],
   "source": [
    "sns.heatmap(confusion_matrix(y_test, y_nb_pred_test), annot=True, cmap='YlGn', fmt='d');"
   ]
  },
  {
   "cell_type": "code",
   "execution_count": 30,
   "id": "resistant-realtor",
   "metadata": {},
   "outputs": [],
   "source": [
    "filename = './models/NaiveBayesModel.sav'\n",
    "pickle.dump(nb_model, open(filename, 'wb'))"
   ]
  },
  {
   "cell_type": "markdown",
   "id": "durable-postage",
   "metadata": {},
   "source": [
    "# Decision Tree"
   ]
  },
  {
   "cell_type": "code",
   "execution_count": 31,
   "id": "biological-consequence",
   "metadata": {},
   "outputs": [],
   "source": [
    "pipe_dt = Pipeline([\n",
    "    ('preprocessor', preprocessor),\n",
    "    ('dt', DecisionTreeClassifier())\n",
    "])\n",
    "\n",
    "#Grid search Parameters\n",
    "param_dt = {\"dt__criterion\":['gini',\"entropy\"],\n",
    "            \"dt__splitter\":['best'],\n",
    "            \"dt__max_depth\":[None,5,8,10,15,20],\n",
    "            \"dt__min_samples_split\":[10,50,100],\n",
    "            \"dt__min_samples_leaf\":[2],\n",
    "            \"dt__min_weight_fraction_leaf\":[0.0],\n",
    "            \"dt__max_features\":[None],\n",
    "            \"dt__random_state\":[RSEED],\n",
    "            \"dt__max_leaf_nodes\":[None],\n",
    "            \"dt__min_impurity_decrease\":[0.0],\n",
    "            \"dt__min_impurity_split\":[None],\n",
    "            \"dt__class_weight\":[None],\n",
    "            \"dt__ccp_alpha\":[0.0],\n",
    "            }\n",
    "\n",
    "grid_dt = GridSearchCV(pipe_dt,\n",
    "                           param_grid=param_dt,\n",
    "                           cv=5, \n",
    "                           scoring='precision',\n",
    "                           verbose=5, \n",
    "                           n_jobs=-1)"
   ]
  },
  {
   "cell_type": "code",
   "execution_count": 32,
   "id": "documented-photographer",
   "metadata": {},
   "outputs": [
    {
     "name": "stdout",
     "output_type": "stream",
     "text": [
      "Fitting 5 folds for each of 24 candidates, totalling 120 fits\n"
     ]
    }
   ],
   "source": [
    "grid_dt.fit(X_train,y_train);"
   ]
  },
  {
   "cell_type": "code",
   "execution_count": 33,
   "id": "thermal-addition",
   "metadata": {},
   "outputs": [
    {
     "data": {
      "text/plain": [
       "{'dt__ccp_alpha': 0.0,\n",
       " 'dt__class_weight': None,\n",
       " 'dt__criterion': 'entropy',\n",
       " 'dt__max_depth': None,\n",
       " 'dt__max_features': None,\n",
       " 'dt__max_leaf_nodes': None,\n",
       " 'dt__min_impurity_decrease': 0.0,\n",
       " 'dt__min_impurity_split': None,\n",
       " 'dt__min_samples_leaf': 5,\n",
       " 'dt__min_samples_split': 50,\n",
       " 'dt__min_weight_fraction_leaf': 0.0,\n",
       " 'dt__random_state': 42,\n",
       " 'dt__splitter': 'best'}"
      ]
     },
     "execution_count": 33,
     "metadata": {},
     "output_type": "execute_result"
    }
   ],
   "source": [
    "grid_dt.best_params_"
   ]
  },
  {
   "cell_type": "code",
   "execution_count": 34,
   "id": "combined-burning",
   "metadata": {},
   "outputs": [
    {
     "name": "stdout",
     "output_type": "stream",
     "text": [
      "              precision    recall  f1-score   support\n",
      "\n",
      "           0       0.66      0.68      0.67     13348\n",
      "           1       0.74      0.73      0.74     17026\n",
      "\n",
      "    accuracy                           0.71     30374\n",
      "   macro avg       0.70      0.70      0.70     30374\n",
      "weighted avg       0.71      0.71      0.71     30374\n",
      "\n"
     ]
    }
   ],
   "source": [
    "dt_model = grid_dt.best_estimator_[\"dt\"]\n",
    "y_dt_pred_test = dt_model.predict(X_test)\n",
    "print(sm.classification_report(y_test, y_dt_pred_test))"
   ]
  },
  {
   "cell_type": "code",
   "execution_count": 35,
   "id": "colored-sweden",
   "metadata": {},
   "outputs": [
    {
     "data": {
      "image/png": "[encoded data removed]",
      "text/plain": [
       "<Figure size 432x288 with 2 Axes>"
      ]
     },
     "metadata": {
      "needs_background": "light"
     },
     "output_type": "display_data"
    }
   ],
   "source": [
    "sns.heatmap(confusion_matrix(y_test, y_dt_pred_test), annot=True, cmap='YlGn', fmt='d');"
   ]
  },
  {
   "cell_type": "code",
   "execution_count": 36,
   "id": "refined-fitting",
   "metadata": {},
   "outputs": [
    {
     "data": {
      "text/html": [
       "<div>\n",
       "<style scoped>\n",
       "    .dataframe tbody tr th:only-of-type {\n",
       "        vertical-align: middle;\n",
       "    }\n",
       "\n",
       "    .dataframe tbody tr th {\n",
       "        vertical-align: top;\n",
       "    }\n",
       "\n",
       "    .dataframe thead th {\n",
       "        text-align: right;\n",
       "    }\n",
       "</style>\n",
       "<table border=\"1\" class=\"dataframe\">\n",
       "  <thead>\n",
       "    <tr style=\"text-align: right;\">\n",
       "      <th></th>\n",
       "      <th>feature</th>\n",
       "      <th>importance</th>\n",
       "    </tr>\n",
       "  </thead>\n",
       "  <tbody>\n",
       "    <tr>\n",
       "      <th>2</th>\n",
       "      <td>time_until_launch</td>\n",
       "      <td>0.193298</td>\n",
       "    </tr>\n",
       "    <tr>\n",
       "      <th>0</th>\n",
       "      <td>goal</td>\n",
       "      <td>0.176090</td>\n",
       "    </tr>\n",
       "    <tr>\n",
       "      <th>1</th>\n",
       "      <td>campaign_length</td>\n",
       "      <td>0.113464</td>\n",
       "    </tr>\n",
       "    <tr>\n",
       "      <th>43</th>\n",
       "      <td>category_name_Documentary</td>\n",
       "      <td>0.032860</td>\n",
       "    </tr>\n",
       "    <tr>\n",
       "      <th>152</th>\n",
       "      <td>category_name_Video Games</td>\n",
       "      <td>0.027346</td>\n",
       "    </tr>\n",
       "    <tr>\n",
       "      <th>129</th>\n",
       "      <td>category_name_Rock</td>\n",
       "      <td>0.025617</td>\n",
       "    </tr>\n",
       "    <tr>\n",
       "      <th>133</th>\n",
       "      <td>category_name_Shorts</td>\n",
       "      <td>0.022822</td>\n",
       "    </tr>\n",
       "    <tr>\n",
       "      <th>117</th>\n",
       "      <td>category_name_Product Design</td>\n",
       "      <td>0.022231</td>\n",
       "    </tr>\n",
       "    <tr>\n",
       "      <th>99</th>\n",
       "      <td>category_name_Nonfiction</td>\n",
       "      <td>0.020848</td>\n",
       "    </tr>\n",
       "    <tr>\n",
       "      <th>58</th>\n",
       "      <td>category_name_Fiction</td>\n",
       "      <td>0.020801</td>\n",
       "    </tr>\n",
       "  </tbody>\n",
       "</table>\n",
       "</div>"
      ],
      "text/plain": [
       "                          feature  importance\n",
       "2               time_until_launch    0.193298\n",
       "0                            goal    0.176090\n",
       "1                 campaign_length    0.113464\n",
       "43      category_name_Documentary    0.032860\n",
       "152     category_name_Video Games    0.027346\n",
       "129            category_name_Rock    0.025617\n",
       "133          category_name_Shorts    0.022822\n",
       "117  category_name_Product Design    0.022231\n",
       "99       category_name_Nonfiction    0.020848\n",
       "58          category_name_Fiction    0.020801"
      ]
     },
     "execution_count": 36,
     "metadata": {},
     "output_type": "execute_result"
    }
   ],
   "source": [
    "fi = pd.DataFrame({'feature': features,\n",
    "                   'importance': dt_model.feature_importances_}).\\\n",
    "                    sort_values('importance', ascending = False)\n",
    "fi.head(10)"
   ]
  },
  {
   "cell_type": "code",
   "execution_count": 37,
   "id": "trying-forwarding",
   "metadata": {},
   "outputs": [
    {
     "data": {
      "text/plain": [
       "'tree3.dot.png'"
      ]
     },
     "execution_count": 37,
     "metadata": {},
     "output_type": "execute_result"
    }
   ],
   "source": [
    "from graphviz import render\n",
    "from graphviz import Source\n",
    "\n",
    "tree.export_graphviz(dt_model,\n",
    "                     out_file=\"tree3.dot\",\n",
    "                     feature_names = features, \n",
    "                     class_names=[\"failed\", \"sucessful\"],\n",
    "                     filled = True)\n",
    "# Convert a .dot file to .png\n",
    "\n",
    "render(\"dot\", \"png\", \"tree3.dot\")\n",
    "# To render an existing file in a notebook\n",
    "\n",
    "#Source.from_file(\"tree3.dot\")"
   ]
  },
  {
   "cell_type": "code",
   "execution_count": 39,
   "id": "yellow-bridal",
   "metadata": {},
   "outputs": [],
   "source": [
    "filename = './models/DecisionTreeModel.sav'\n",
    "pickle.dump(dt_model, open(filename, 'wb'))"
   ]
  },
  {
   "cell_type": "markdown",
   "id": "cross-principle",
   "metadata": {},
   "source": [
    "# SVC"
   ]
  },
  {
   "cell_type": "code",
   "execution_count": 40,
   "id": "august-bhutan",
   "metadata": {},
   "outputs": [],
   "source": [
    "pipe_svc = Pipeline([\n",
    "    ('preprocessor', preprocessor),\n",
    "    ('svc', SVC())\n",
    "])\n",
    "\n",
    "#Grid search Parameters\n",
    "param_svc = {\n",
    "            \"svc__C\":[1.0, 0.1, 10.0, 100.0],\n",
    "            \"svc__kernel\":['rbf'],\n",
    "            \"svc__degree\":[3],\n",
    "            \"svc__gamma\":['scale',\"auto\"],\n",
    "            \"svc__coef0\":[0.0],\n",
    "            \"svc__shrinking\":[True],\n",
    "            \"svc__probability\":[False],\n",
    "            \"svc__tol\":[0.01,1e-4,1e-3,0.1],\n",
    "            \"svc__cache_size\":[200],\n",
    "            \"svc__class_weight\":[None],\n",
    "            \"svc__verbose\":[False],\n",
    "            \"svc__max_iter\":[-1],\n",
    "            \"svc__decision_function_shape\":['ovr'],\n",
    "            \"svc__break_ties\":[False],\n",
    "            \"svc__random_state\":[RSEED],\n",
    "            }\n",
    "\n",
    "grid_svc = GridSearchCV(pipe_svc,\n",
    "                           param_grid=param_svc,\n",
    "                           cv=5, \n",
    "                           scoring='precision',\n",
    "                           verbose=5, \n",
    "                           n_jobs=-1)"
   ]
  },
  {
   "cell_type": "code",
   "execution_count": 41,
   "id": "regular-clerk",
   "metadata": {},
   "outputs": [
    {
     "name": "stdout",
     "output_type": "stream",
     "text": [
      "Fitting 5 folds for each of 2 candidates, totalling 10 fits\n"
     ]
    }
   ],
   "source": [
    "grid_svc.fit(X_train,y_train);"
   ]
  },
  {
   "cell_type": "code",
   "execution_count": 42,
   "id": "killing-round",
   "metadata": {},
   "outputs": [
    {
     "data": {
      "text/plain": [
       "{'svc__C': 1.0,\n",
       " 'svc__break_ties': False,\n",
       " 'svc__cache_size': 200,\n",
       " 'svc__class_weight': None,\n",
       " 'svc__coef0': 0.0,\n",
       " 'svc__decision_function_shape': 'ovr',\n",
       " 'svc__degree': 3,\n",
       " 'svc__gamma': 'scale',\n",
       " 'svc__kernel': 'rbf',\n",
       " 'svc__max_iter': -1,\n",
       " 'svc__probability': False,\n",
       " 'svc__random_state': 42,\n",
       " 'svc__shrinking': True,\n",
       " 'svc__tol': 0.01,\n",
       " 'svc__verbose': False}"
      ]
     },
     "execution_count": 42,
     "metadata": {},
     "output_type": "execute_result"
    }
   ],
   "source": [
    "grid_svc.best_params_"
   ]
  },
  {
   "cell_type": "code",
   "execution_count": 43,
   "id": "useful-miracle",
   "metadata": {},
   "outputs": [
    {
     "name": "stdout",
     "output_type": "stream",
     "text": [
      "              precision    recall  f1-score   support\n",
      "\n",
      "           0       0.67      0.80      0.73     13348\n",
      "           1       0.81      0.70      0.75     17026\n",
      "\n",
      "    accuracy                           0.74     30374\n",
      "   macro avg       0.74      0.75      0.74     30374\n",
      "weighted avg       0.75      0.74      0.74     30374\n",
      "\n"
     ]
    }
   ],
   "source": [
    "svc_model = grid_svc.best_estimator_[\"svc\"]\n",
    "y_svc_pred_test = svc_model.predict(X_test)\n",
    "print(sm.classification_report(y_test,y_svc_pred_test))"
   ]
  },
  {
   "cell_type": "code",
   "execution_count": 44,
   "id": "noted-fireplace",
   "metadata": {},
   "outputs": [
    {
     "data": {
      "image/png": "[encoded data removed]",
      "text/plain": [
       "<Figure size 432x288 with 2 Axes>"
      ]
     },
     "metadata": {
      "needs_background": "light"
     },
     "output_type": "display_data"
    }
   ],
   "source": [
    "sns.heatmap(confusion_matrix(y_test, y_svc_pred_test), annot=True, cmap='YlGn', fmt='d');"
   ]
  },
  {
   "cell_type": "code",
   "execution_count": 45,
   "id": "diagnostic-skiing",
   "metadata": {},
   "outputs": [],
   "source": [
    "filename = './models/SVCModel.sav'\n",
    "pickle.dump(svc_model, open(filename, 'wb'))"
   ]
  },
  {
   "cell_type": "markdown",
   "id": "vulnerable-solomon",
   "metadata": {},
   "source": [
    "# Random Forest"
   ]
  },
  {
   "cell_type": "code",
   "execution_count": 46,
   "id": "bronze-induction",
   "metadata": {},
   "outputs": [],
   "source": [
    "pipe_rf = Pipeline([\n",
    "    ('preprocessor', preprocessor),\n",
    "    ('rf', RandomForestClassifier())\n",
    "])\n",
    "\n",
    "#Grid search Parameters\n",
    "param_rf = {\n",
    "            \"rf__n_estimators\":[100, 500, 1000],\n",
    "            \"rf__criterion\":['gini',\"entropy\"],\n",
    "            \"rf__max_depth\":[None,1,2,5,10],\n",
    "            \"rf__min_samples_split\":[2,10,50],\n",
    "            \"rf__min_samples_leaf\":[1],\n",
    "            \"rf__min_weight_fraction_leaf\":[0.0],\n",
    "            \"rf__max_features\":['auto',\"sqrt\"],\n",
    "            \"rf__max_leaf_nodes\":[None],\n",
    "            \"rf__min_impurity_decrease\":[0.0],\n",
    "            \"rf__min_impurity_split\":[None],\n",
    "            \"rf__bootstrap\":[True],\n",
    "            \"rf__oob_score\":[False],\n",
    "            \"rf__n_jobs\":[None],\n",
    "            \"rf__random_state\":[RSEED],\n",
    "            \"rf__verbose\":[0],\n",
    "            \"rf__warm_start\":[False],\n",
    "            \"rf__class_weight\":[None],\n",
    "            \"rf__ccp_alpha\":[0.0],\n",
    "            \"rf__max_samples\":[None],\n",
    "            }\n",
    "\n",
    "grid_rf = GridSearchCV(pipe_rf,\n",
    "                           param_grid=param_rf,\n",
    "                           cv=5, \n",
    "                           scoring='precision',\n",
    "                           verbose=5, \n",
    "                           n_jobs=-1)"
   ]
  },
  {
   "cell_type": "code",
   "execution_count": 47,
   "id": "patient-theorem",
   "metadata": {},
   "outputs": [
    {
     "name": "stdout",
     "output_type": "stream",
     "text": [
      "Fitting 5 folds for each of 1 candidates, totalling 5 fits\n"
     ]
    }
   ],
   "source": [
    "grid_rf.fit(X_train,y_train);"
   ]
  },
  {
   "cell_type": "code",
   "execution_count": 48,
   "id": "anticipated-blackberry",
   "metadata": {},
   "outputs": [
    {
     "data": {
      "text/plain": [
       "{'rf__bootstrap': True,\n",
       " 'rf__ccp_alpha': 0.0,\n",
       " 'rf__class_weight': None,\n",
       " 'rf__criterion': 'gini',\n",
       " 'rf__max_depth': None,\n",
       " 'rf__max_features': 'auto',\n",
       " 'rf__max_leaf_nodes': None,\n",
       " 'rf__max_samples': None,\n",
       " 'rf__min_impurity_decrease': 0.0,\n",
       " 'rf__min_impurity_split': None,\n",
       " 'rf__min_samples_leaf': 5,\n",
       " 'rf__min_samples_split': 10,\n",
       " 'rf__min_weight_fraction_leaf': 0.0,\n",
       " 'rf__n_estimators': 100,\n",
       " 'rf__n_jobs': None,\n",
       " 'rf__oob_score': False,\n",
       " 'rf__random_state': 42,\n",
       " 'rf__verbose': 0,\n",
       " 'rf__warm_start': False}"
      ]
     },
     "execution_count": 48,
     "metadata": {},
     "output_type": "execute_result"
    }
   ],
   "source": [
    "grid_rf.best_params_"
   ]
  },
  {
   "cell_type": "code",
   "execution_count": 49,
   "id": "featured-resource",
   "metadata": {},
   "outputs": [
    {
     "name": "stdout",
     "output_type": "stream",
     "text": [
      "              precision    recall  f1-score   support\n",
      "\n",
      "           0       0.73      0.70      0.71     13348\n",
      "           1       0.77      0.79      0.78     17026\n",
      "\n",
      "    accuracy                           0.75     30374\n",
      "   macro avg       0.75      0.75      0.75     30374\n",
      "weighted avg       0.75      0.75      0.75     30374\n",
      "\n"
     ]
    }
   ],
   "source": [
    "rf_model = grid_rf.best_estimator_[\"rf\"]\n",
    "y_rf_pred_test = rf_model.predict(X_test)\n",
    "print(sm.classification_report(y_test,y_rf_pred_test))"
   ]
  },
  {
   "cell_type": "code",
   "execution_count": 50,
   "id": "respiratory-fisher",
   "metadata": {},
   "outputs": [
    {
     "data": {
      "text/html": [
       "<div>\n",
       "<style scoped>\n",
       "    .dataframe tbody tr th:only-of-type {\n",
       "        vertical-align: middle;\n",
       "    }\n",
       "\n",
       "    .dataframe tbody tr th {\n",
       "        vertical-align: top;\n",
       "    }\n",
       "\n",
       "    .dataframe thead th {\n",
       "        text-align: right;\n",
       "    }\n",
       "</style>\n",
       "<table border=\"1\" class=\"dataframe\">\n",
       "  <thead>\n",
       "    <tr style=\"text-align: right;\">\n",
       "      <th></th>\n",
       "      <th>feature</th>\n",
       "      <th>importance</th>\n",
       "    </tr>\n",
       "  </thead>\n",
       "  <tbody>\n",
       "    <tr>\n",
       "      <th>0</th>\n",
       "      <td>goal</td>\n",
       "      <td>0.184374</td>\n",
       "    </tr>\n",
       "    <tr>\n",
       "      <th>2</th>\n",
       "      <td>time_until_launch</td>\n",
       "      <td>0.128189</td>\n",
       "    </tr>\n",
       "    <tr>\n",
       "      <th>1</th>\n",
       "      <td>campaign_length</td>\n",
       "      <td>0.076514</td>\n",
       "    </tr>\n",
       "    <tr>\n",
       "      <th>155</th>\n",
       "      <td>category_name_Web</td>\n",
       "      <td>0.031711</td>\n",
       "    </tr>\n",
       "    <tr>\n",
       "      <th>99</th>\n",
       "      <td>category_name_Nonfiction</td>\n",
       "      <td>0.026380</td>\n",
       "    </tr>\n",
       "    <tr>\n",
       "      <th>43</th>\n",
       "      <td>category_name_Documentary</td>\n",
       "      <td>0.026364</td>\n",
       "    </tr>\n",
       "    <tr>\n",
       "      <th>129</th>\n",
       "      <td>category_name_Rock</td>\n",
       "      <td>0.024587</td>\n",
       "    </tr>\n",
       "    <tr>\n",
       "      <th>34</th>\n",
       "      <td>category_name_Country &amp; Folk</td>\n",
       "      <td>0.024416</td>\n",
       "    </tr>\n",
       "    <tr>\n",
       "      <th>58</th>\n",
       "      <td>category_name_Fiction</td>\n",
       "      <td>0.023091</td>\n",
       "    </tr>\n",
       "    <tr>\n",
       "      <th>152</th>\n",
       "      <td>category_name_Video Games</td>\n",
       "      <td>0.022853</td>\n",
       "    </tr>\n",
       "  </tbody>\n",
       "</table>\n",
       "</div>"
      ],
      "text/plain": [
       "                          feature  importance\n",
       "0                            goal    0.184374\n",
       "2               time_until_launch    0.128189\n",
       "1                 campaign_length    0.076514\n",
       "155             category_name_Web    0.031711\n",
       "99       category_name_Nonfiction    0.026380\n",
       "43      category_name_Documentary    0.026364\n",
       "129            category_name_Rock    0.024587\n",
       "34   category_name_Country & Folk    0.024416\n",
       "58          category_name_Fiction    0.023091\n",
       "152     category_name_Video Games    0.022853"
      ]
     },
     "execution_count": 50,
     "metadata": {},
     "output_type": "execute_result"
    }
   ],
   "source": [
    "fi = pd.DataFrame({'feature': features,\n",
    "                   'importance': rf_model.feature_importances_}).\\\n",
    "                    sort_values('importance', ascending = False)\n",
    "fi.head(10)"
   ]
  },
  {
   "cell_type": "code",
   "execution_count": 51,
   "id": "macro-straight",
   "metadata": {},
   "outputs": [
    {
     "data": {
      "image/png": "[encoded data removed]",
      "text/plain": [
       "<Figure size 432x288 with 2 Axes>"
      ]
     },
     "metadata": {
      "needs_background": "light"
     },
     "output_type": "display_data"
    }
   ],
   "source": [
    "sns.heatmap(confusion_matrix(y_test, y_rf_pred_test), annot=True, cmap='YlGn', fmt='d');"
   ]
  },
  {
   "cell_type": "code",
   "execution_count": 52,
   "id": "continent-murder",
   "metadata": {},
   "outputs": [],
   "source": [
    "filename = './models/RandomForestModel.sav'\n",
    "pickle.dump(rf_model, open(filename, 'wb'))"
   ]
  },
  {
   "cell_type": "markdown",
   "id": "timely-allah",
   "metadata": {},
   "source": [
    "# AdaBoost"
   ]
  },
  {
   "cell_type": "code",
   "execution_count": 69,
   "id": "allied-latino",
   "metadata": {},
   "outputs": [],
   "source": [
    "pipe_ab = Pipeline([\n",
    "    ('preprocessor', preprocessor),\n",
    "    ('ab', AdaBoostClassifier())\n",
    "])\n",
    "\n",
    "#Grid search Parameters\n",
    "param_ab = {            \n",
    "            \"ab__base_estimator\":[None, LogisticRegression(),BernoulliNB()],\n",
    "            \"ab__n_estimators\":[20,50,100],\n",
    "            \"ab__learning_rate\":[0.1,1.0,10],\n",
    "            \"ab__algorithm\":['SAMME.R'],\n",
    "            \"ab__random_state\":[RSEED],\n",
    "            }\n",
    "\n",
    "grid_ab = GridSearchCV(pipe_ab,\n",
    "                           param_grid=param_ab,\n",
    "                           cv=5, \n",
    "                           scoring='precision',\n",
    "                           verbose=5, \n",
    "                           n_jobs=-1)"
   ]
  },
  {
   "cell_type": "code",
   "execution_count": 70,
   "id": "indian-paradise",
   "metadata": {},
   "outputs": [
    {
     "name": "stdout",
     "output_type": "stream",
     "text": [
      "Fitting 5 folds for each of 4 candidates, totalling 20 fits\n"
     ]
    }
   ],
   "source": [
    "grid_ab.fit(X_train,y_train);"
   ]
  },
  {
   "cell_type": "code",
   "execution_count": 71,
   "id": "correct-europe",
   "metadata": {},
   "outputs": [
    {
     "data": {
      "text/plain": [
       "{'ab__algorithm': 'SAMME.R',\n",
       " 'ab__base_estimator': None,\n",
       " 'ab__learning_rate': 0.5,\n",
       " 'ab__n_estimators': 50,\n",
       " 'ab__random_state': 42}"
      ]
     },
     "execution_count": 71,
     "metadata": {},
     "output_type": "execute_result"
    }
   ],
   "source": [
    "grid_ab.best_params_"
   ]
  },
  {
   "cell_type": "code",
   "execution_count": 72,
   "id": "historical-visit",
   "metadata": {},
   "outputs": [
    {
     "name": "stdout",
     "output_type": "stream",
     "text": [
      "              precision    recall  f1-score   support\n",
      "\n",
      "           0       0.70      0.72      0.71     13348\n",
      "           1       0.78      0.76      0.77     17026\n",
      "\n",
      "    accuracy                           0.74     30374\n",
      "   macro avg       0.74      0.74      0.74     30374\n",
      "weighted avg       0.74      0.74      0.74     30374\n",
      "\n"
     ]
    }
   ],
   "source": [
    "ab_model = grid_ab.best_estimator_[\"ab\"]\n",
    "y_ab_pred_test = ab_model.predict(X_test)\n",
    "print(sm.classification_report(y_test,y_ab_pred_test))"
   ]
  },
  {
   "cell_type": "code",
   "execution_count": 73,
   "id": "therapeutic-monthly",
   "metadata": {},
   "outputs": [
    {
     "data": {
      "image/png": "[encoded data removed]",
      "text/plain": [
       "<Figure size 432x288 with 2 Axes>"
      ]
     },
     "metadata": {},
     "output_type": "display_data"
    }
   ],
   "source": [
    "sns.heatmap(confusion_matrix(y_test, y_ab_pred_test), annot=True, cmap='YlGn', fmt='d');"
   ]
  },
  {
   "cell_type": "code",
   "execution_count": 58,
   "id": "fossil-female",
   "metadata": {},
   "outputs": [],
   "source": [
    "filename = './models/AdaBoostModel.sav'\n",
    "pickle.dump(ab_model, open(filename, 'wb'))"
   ]
  },
  {
   "cell_type": "markdown",
   "id": "collectible-convenience",
   "metadata": {},
   "source": [
    "## Get data for ROC Curves"
   ]
  },
  {
   "cell_type": "code",
   "execution_count": 59,
   "id": "informal-baseline",
   "metadata": {},
   "outputs": [],
   "source": [
    "X_train_preprocessed = preprocessor.transform(X_train)\n",
    "\n",
    "#Logistic Regression\n",
    "y_logreg_train_probs = logreg_model.predict_proba(X_train_preprocessed)[:, 1]\n",
    "y_logreg_test_probs = logreg_model.predict_proba(X_test)[:, 1]\n",
    "y_logreg_pred_train = logreg_model.predict(X_train_preprocessed)\n",
    "y_logreg_pred_test = logreg_model.predict(X_test)\n",
    "\n",
    "#KNN\n",
    "y_knn_train_probs = knn_model.predict_proba(X_train_preprocessed)[:, 1]\n",
    "y_knn_test_probs = knn_model.predict_proba(X_test)[:, 1]\n",
    "y_knn_pred_train = knn_model.predict(X_train_preprocessed)\n",
    "y_knn_pred_test = knn_model.predict(X_test)\n",
    "\n",
    "#Naive Bayes\n",
    "y_nb_train_probs = nb_model.predict_proba(X_train_preprocessed)[:, 1]\n",
    "y_nb_test_probs = nb_model.predict_proba(X_test)[:, 1]\n",
    "y_nb_pred_train = nb_model.predict(X_train_preprocessed)\n",
    "y_nb_pred_test = nb_model.predict(X_test)\n",
    "\n",
    "#Decision Tree\n",
    "y_dt_train_probs = dt_model.predict_proba(X_train_preprocessed)[:, 1]\n",
    "y_dt_test_probs = dt_model.predict_proba(X_test)[:, 1]\n",
    "y_dt_pred_train = dt_model.predict(X_train_preprocessed)\n",
    "y_dt_pred_test = dt_model.predict(X_test)\n",
    "\n",
    "#SVC\n",
    "#y_svc_train_probs = svc_model.predict_proba(X_train_preprocessed)[:, 1]\n",
    "#y_svc_test_probs = svc_model.predict_proba(X_test)[:, 1]\n",
    "y_svc_pred_train = svc_model.predict(X_train_preprocessed)\n",
    "y_svc_pred_test = svc_model.predict(X_test)\n",
    "\n",
    "#Random Forest\n",
    "y_rf_train_probs = rf_model.predict_proba(X_train_preprocessed)[:, 1]\n",
    "y_rf_test_probs = rf_model.predict_proba(X_test)[:, 1]\n",
    "y_rf_pred_train = rf_model.predict(X_train_preprocessed)\n",
    "y_rf_pred_test = rf_model.predict(X_test)\n",
    "\n",
    "#Ada Boost\n",
    "y_ab_train_probs = ab_model.predict_proba(X_train_preprocessed)[:, 1]\n",
    "y_ab_test_probs = ab_model.predict_proba(X_test)[:, 1]\n",
    "y_ab_pred_train = ab_model.predict(X_train_preprocessed)\n",
    "y_ab_pred_test = ab_model.predict(X_test)"
   ]
  },
  {
   "cell_type": "markdown",
   "id": "modular-exemption",
   "metadata": {},
   "source": [
    "ROC curves to be done later"
   ]
  },
  {
   "cell_type": "code",
   "execution_count": 60,
   "id": "declared-entertainment",
   "metadata": {},
   "outputs": [],
   "source": [
    "df_ev = pd.DataFrame(np.array([\n",
    "    [\n",
    "        sm.accuracy_score(y_test,y_logreg_pred_test),\n",
    "        sm.accuracy_score(y_test,y_knn_pred_test),\n",
    "        sm.accuracy_score(y_test,y_nb_pred_test),\n",
    "        sm.accuracy_score(y_test,y_dt_pred_test),\n",
    "        sm.accuracy_score(y_test,y_svc_pred_test),\n",
    "        sm.accuracy_score(y_test,y_rf_pred_test),\n",
    "        sm.accuracy_score(y_test,y_ab_pred_test),\n",
    "    ],\n",
    "    [\n",
    "        sm.precision_score(y_test,y_logreg_pred_test),\n",
    "        sm.precision_score(y_test,y_knn_pred_test),\n",
    "        sm.precision_score(y_test,y_nb_pred_test),\n",
    "        sm.precision_score(y_test,y_dt_pred_test),\n",
    "        sm.precision_score(y_test,y_svc_pred_test),\n",
    "        sm.precision_score(y_test,y_rf_pred_test),\n",
    "        sm.precision_score(y_test,y_ab_pred_test),\n",
    "    ],\n",
    "    [\n",
    "        sm.recall_score(y_test,y_logreg_pred_test),\n",
    "        sm.recall_score(y_test,y_knn_pred_test),\n",
    "        sm.recall_score(y_test,y_nb_pred_test),\n",
    "        sm.recall_score(y_test,y_dt_pred_test),\n",
    "        sm.recall_score(y_test,y_svc_pred_test),\n",
    "        sm.recall_score(y_test,y_rf_pred_test),\n",
    "        sm.recall_score(y_test,y_ab_pred_test),\n",
    "    ],\n",
    "    [\n",
    "        sm.f1_score(y_test,y_logreg_pred_test),\n",
    "        sm.f1_score(y_test,y_knn_pred_test),\n",
    "        sm.f1_score(y_test,y_nb_pred_test),\n",
    "        sm.f1_score(y_test,y_dt_pred_test),\n",
    "        sm.f1_score(y_test,y_svc_pred_test),\n",
    "        sm.f1_score(y_test,y_rf_pred_test),\n",
    "        sm.f1_score(y_test,y_ab_pred_test),\n",
    "    ],\n",
    "    ]),#.reshape(7,4),\n",
    "    index=[\"Accuracy\",\"Precision\",\"Recall\",\"F1\"],\n",
    "    columns=[\"logreg\",\"knn\",\"nb\",\"dt\",\"svc\",\"rf\",\"ab\"]\n",
    ")\n",
    "#df_ev = round(df_ev,2)"
   ]
  },
  {
   "cell_type": "code",
   "execution_count": 61,
   "id": "single-harmony",
   "metadata": {},
   "outputs": [],
   "source": [
    "#df_ev = df_ev.transpose()"
   ]
  },
  {
   "cell_type": "code",
   "execution_count": 62,
   "id": "fuzzy-customs",
   "metadata": {},
   "outputs": [
    {
     "data": {
      "text/plain": [
       "<AxesSubplot:>"
      ]
     },
     "execution_count": 62,
     "metadata": {},
     "output_type": "execute_result"
    },
    {
     "data": {
      "image/png": "[encoded data removed]",
      "text/plain": [
       "<Figure size 648x432 with 2 Axes>"
      ]
     },
     "metadata": {},
     "output_type": "display_data"
    }
   ],
   "source": [
    "sns.set_theme()\n",
    "\n",
    "f, ax = plt.subplots(figsize=(9, 6))\n",
    "sns.heatmap(df_ev.transpose(), annot=True, fmt=\".2f\", linewidths=.5, ax= ax)"
   ]
  },
  {
   "cell_type": "markdown",
   "id": "protective-invite",
   "metadata": {},
   "source": [
    "# Ensemble"
   ]
  },
  {
   "cell_type": "code",
   "execution_count": 63,
   "id": "arbitrary-reliance",
   "metadata": {},
   "outputs": [],
   "source": [
    "estimators = [\n",
    "    ('dt', DecisionTreeClassifier(random_state=RSEED)),\n",
    "    #('knn', KNeighborsClassifier()),\n",
    "    ('rf', RandomForestClassifier(random_state=RSEED)),\n",
    "    (\"nb\", BernoulliNB())\n",
    "]\n",
    "\n",
    "pipe_stack = Pipeline([\n",
    "    ('preprocessor', preprocessor),\n",
    "    ('stack', StackingClassifier(estimators=estimators, final_estimator=LogisticRegression()))\n",
    "])"
   ]
  },
  {
   "cell_type": "code",
   "execution_count": 64,
   "id": "filled-institute",
   "metadata": {},
   "outputs": [],
   "source": [
    "#pipe_stack.fit(X_train, y_train)"
   ]
  },
  {
   "cell_type": "code",
   "execution_count": 65,
   "id": "equivalent-legislation",
   "metadata": {},
   "outputs": [],
   "source": [
    "#pipe_stack.get_params()"
   ]
  },
  {
   "cell_type": "code",
   "execution_count": 66,
   "id": "premium-slide",
   "metadata": {},
   "outputs": [],
   "source": [
    "#y_stack_pred_test = pipe_stack.predict(X_test)\n",
    "#y_stack_pred_test"
   ]
  },
  {
   "cell_type": "code",
   "execution_count": 67,
   "id": "controversial-combat",
   "metadata": {},
   "outputs": [],
   "source": [
    "#print(sm.classification_report(y_test,y_stack_pred_test))"
   ]
  },
  {
   "cell_type": "code",
   "execution_count": 68,
   "id": "fantastic-yield",
   "metadata": {},
   "outputs": [],
   "source": [
    "#model_tree = pickle.load(open(\"./models/DecisionTreeModel.sav\", 'rb'))\n"
   ]
  },
  {
   "cell_type": "code",
   "execution_count": null,
   "id": "union-swaziland",
   "metadata": {},
   "outputs": [],
   "source": []
  }
 ],
 "metadata": {
  "kernelspec": {
   "display_name": "Python 3",
   "language": "python",
   "name": "python3"
  },
  "language_info": {
   "codemirror_mode": {
    "name": "ipython",
    "version": 3
   },
   "file_extension": ".py",
   "mimetype": "text/x-python",
   "name": "python",
   "nbconvert_exporter": "python",
   "pygments_lexer": "ipython3",
   "version": "3.8.5"
  }
 },
 "nbformat": 4,
 "nbformat_minor": 5
}
